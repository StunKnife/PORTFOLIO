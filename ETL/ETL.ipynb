{
 "cells": [
  {
   "cell_type": "markdown",
   "metadata": {},
   "source": [
    "# ETL\n",
    " - O ETL será aplicado sob um banco de dados disponível em um repositório aberto"
   ]
  },
  {
   "cell_type": "code",
   "execution_count": null,
   "metadata": {},
   "outputs": [],
   "source": [
    "# https://www.linkedin.com/pulse/etl-em-python-eou-r-hugo-souza/?originalSubdomain=pt"
   ]
  },
  {
   "cell_type": "code",
   "execution_count": 1,
   "metadata": {},
   "outputs": [
    {
     "name": "stdout",
     "output_type": "stream",
     "text": [
      "Requirement already satisfied: findspark in c:\\users\\user\\appdata\\local\\packages\\pythonsoftwarefoundation.python.3.11_qbz5n2kfra8p0\\localcache\\local-packages\\python311\\site-packages (2.0.1)\n",
      "Note: you may need to restart the kernel to use updated packages.\n"
     ]
    }
   ],
   "source": [
    "pip install findspark"
   ]
  },
  {
   "cell_type": "code",
   "execution_count": 2,
   "metadata": {},
   "outputs": [
    {
     "name": "stdout",
     "output_type": "stream",
     "text": [
      "Requirement already satisfied: quinn in c:\\users\\user\\appdata\\local\\packages\\pythonsoftwarefoundation.python.3.11_qbz5n2kfra8p0\\localcache\\local-packages\\python311\\site-packages (0.10.3)\n",
      "Note: you may need to restart the kernel to use updated packages.\n"
     ]
    }
   ],
   "source": [
    "pip install quinn"
   ]
  },
  {
   "cell_type": "code",
   "execution_count": 3,
   "metadata": {},
   "outputs": [
    {
     "name": "stdout",
     "output_type": "stream",
     "text": [
      "Requirement already satisfied: psycopg2 in c:\\users\\user\\appdata\\local\\packages\\pythonsoftwarefoundation.python.3.11_qbz5n2kfra8p0\\localcache\\local-packages\\python311\\site-packages (2.9.9)\n",
      "Note: you may need to restart the kernel to use updated packages.\n"
     ]
    }
   ],
   "source": [
    "pip install psycopg2"
   ]
  },
  {
   "cell_type": "code",
   "execution_count": 4,
   "metadata": {},
   "outputs": [],
   "source": [
    "import findspark\n",
    "#inicializacao do Spark\n",
    "findspark.init()\n",
    "#Bibliotecas pyspark\n",
    "import pyspark\n",
    "from pyspark.context import SparkContext\n",
    "from pyspark.sql.session import SparkSession\n",
    "from pyspark.sql import SQLContext\n",
    "import quinn\n",
    "#Biblioteca para conexao com o PostgreSQL\n",
    "import psycopg2"
   ]
  },
  {
   "cell_type": "code",
   "execution_count": 5,
   "metadata": {},
   "outputs": [
    {
     "name": "stderr",
     "output_type": "stream",
     "text": [
      "C:\\spark\\spark-3.5.0-bin-hadoop3\\python\\pyspark\\sql\\context.py:113: FutureWarning: Deprecated in 3.0.0. Use SparkSession.builder.getOrCreate() instead.\n",
      "  warnings.warn(\n"
     ]
    }
   ],
   "source": [
    "#Conexao com o Spark\n",
    "sc = SparkContext.getOrCreate()\n",
    "spark = SparkSession(sc)\n",
    "sqlCtx = SQLContext(spark)"
   ]
  },
  {
   "cell_type": "markdown",
   "metadata": {},
   "source": [
    "# Extração\n",
    " - A fase de Extração é realizada com a função SQLContext para ler o arquivo obtido em formato \".dat\""
   ]
  },
  {
   "cell_type": "code",
   "execution_count": 33,
   "metadata": {},
   "outputs": [
    {
     "name": "stderr",
     "output_type": "stream",
     "text": [
      "C:\\spark\\spark-3.5.0-bin-hadoop3\\python\\pyspark\\sql\\context.py:113: FutureWarning: Deprecated in 3.0.0. Use SparkSession.builder.getOrCreate() instead.\n",
      "  warnings.warn(\n"
     ]
    },
    {
     "name": "stdout",
     "output_type": "stream",
     "text": [
      "DataFrame[_c0: string, _c1: string, _c2: string, _c3: string]\n",
      "+---+---+---+---+\n",
      "|_c0|_c1|_c2|_c3|\n",
      "+---+---+---+---+\n",
      "| 30| 64|  1|  1|\n",
      "| 30| 62|  3|  1|\n",
      "| 30| 65|  0|  1|\n",
      "| 31| 59|  2|  1|\n",
      "| 31| 65|  4|  1|\n",
      "| 33| 58| 10|  1|\n",
      "| 33| 60|  0|  1|\n",
      "| 34| 59|  0|  2|\n",
      "| 34| 66|  9|  2|\n",
      "| 34| 58| 30|  1|\n",
      "+---+---+---+---+\n",
      "only showing top 10 rows\n",
      "\n"
     ]
    }
   ],
   "source": [
    "#url=\"https://archive.ics.uci.edu/dataset/43/haberman+s+survival/haberman.data\"\n",
    "url=\"C:/Users/User/Desktop/Portfolio_Geilsa/ETL/haberman.data\"\n",
    "\n",
    "\n",
    "data = sqlCtx.read.options(header='False').csv(url)\n",
    "print(data)\n",
    "data.show(10)"
   ]
  },
  {
   "cell_type": "markdown",
   "metadata": {},
   "source": [
    "#  Transformação \n",
    "    - Adicionando o nome das colunas"
   ]
  },
  {
   "cell_type": "code",
   "execution_count": 34,
   "metadata": {},
   "outputs": [
    {
     "name": "stdout",
     "output_type": "stream",
     "text": [
      "+------------+-----------+----------+------+\n",
      "|IdadeOperado|AnoOperacao|QntNodulos|Status|\n",
      "+------------+-----------+----------+------+\n",
      "|          30|         64|         1|     1|\n",
      "|          30|         62|         3|     1|\n",
      "|          30|         65|         0|     1|\n",
      "|          31|         59|         2|     1|\n",
      "|          31|         65|         4|     1|\n",
      "|          33|         58|        10|     1|\n",
      "|          33|         60|         0|     1|\n",
      "|          34|         59|         0|     2|\n",
      "|          34|         66|         9|     2|\n",
      "|          34|         58|        30|     1|\n",
      "+------------+-----------+----------+------+\n",
      "only showing top 10 rows\n",
      "\n"
     ]
    }
   ],
   "source": [
    "dataM = data.withColumnRenamed('_c0','IdadeOperado')\\\n",
    "            .withColumnRenamed('_c1','AnoOperacao')\\\n",
    "            .withColumnRenamed('_c2','QntNodulos')\\\n",
    "            .withColumnRenamed('_c3','Status')\n",
    "\n",
    "dataM.show(10)"
   ]
  },
  {
   "cell_type": "code",
   "execution_count": 42,
   "metadata": {},
   "outputs": [
    {
     "name": "stdout",
     "output_type": "stream",
     "text": [
      "+------------+-----------+----------+------+\n",
      "|IdadeOperado|AnoOperacao|QntNodulos|Status|\n",
      "+------------+-----------+----------+------+\n",
      "|          30|         64|         1|     1|\n",
      "|          30|         62|         3|     1|\n",
      "|          30|         65|         0|     1|\n",
      "|          31|         59|         2|     1|\n",
      "|          31|         65|         4|     1|\n",
      "|          33|         58|        10|     1|\n",
      "|          33|         60|         0|     1|\n",
      "|          34|         58|        30|     1|\n",
      "|          34|         60|         1|     1|\n",
      "|          34|         61|        10|     1|\n",
      "|          34|         67|         7|     1|\n",
      "|          34|         60|         0|     1|\n",
      "|          35|         64|        13|     1|\n",
      "|          35|         63|         0|     1|\n",
      "|          36|         60|         1|     1|\n",
      "|          36|         69|         0|     1|\n",
      "|          37|         60|         0|     1|\n",
      "|          37|         63|         0|     1|\n",
      "|          37|         58|         0|     1|\n",
      "|          37|         59|         6|     1|\n",
      "+------------+-----------+----------+------+\n",
      "only showing top 20 rows\n",
      "\n"
     ]
    }
   ],
   "source": [
    "# Filtrar apenas dados com Starus = 1\n",
    "dataSobrevida = dataM[dataM['Status']=='1']\n",
    "dataSobrevida.show()"
   ]
  },
  {
   "cell_type": "markdown",
   "metadata": {},
   "source": [
    "# Load\n",
    "    - A próxima etapa é a carga, ou Load em inglês, para um banco de dados, aqui foi utilizado o PostgreSQL"
   ]
  },
  {
   "cell_type": "code",
   "execution_count": 6,
   "metadata": {},
   "outputs": [],
   "source": [
    "import psycopg2"
   ]
  },
  {
   "cell_type": "code",
   "execution_count": 54,
   "metadata": {},
   "outputs": [],
   "source": [
    "conn = psycopg2.connect(host=\"localhost\", database=\"postgres\",\n",
    "                        user = \"postgres\",\n",
    "                        password = \"postBarata\")\n",
    "#abertura da conexao\n",
    "cur = conn.cursor()"
   ]
  },
  {
   "cell_type": "code",
   "execution_count": null,
   "metadata": {},
   "outputs": [],
   "source": [
    "cur.execute(\"\"\"CREATE TABLE sobrevida\n",
    "           ( IdadeOperado integer,\n",
    "             AnoOperacao integer,\n",
    "             QntNodulos integer,\n",
    "             Status integer);\"\"\")"
   ]
  },
  {
   "cell_type": "code",
   "execution_count": 55,
   "metadata": {},
   "outputs": [
    {
     "name": "stdout",
     "output_type": "stream",
     "text": [
      "+------------+-----------+----------+------+\n",
      "|IdadeOperado|AnoOperacao|QntNodulos|Status|\n",
      "+------------+-----------+----------+------+\n",
      "|          30|         64|         1|     1|\n",
      "|          30|         62|         3|     1|\n",
      "|          30|         65|         0|     1|\n",
      "|          31|         59|         2|     1|\n",
      "|          31|         65|         4|     1|\n",
      "|          33|         58|        10|     1|\n",
      "|          33|         60|         0|     1|\n",
      "|          34|         58|        30|     1|\n",
      "|          34|         60|         1|     1|\n",
      "|          34|         61|        10|     1|\n",
      "|          34|         67|         7|     1|\n",
      "|          34|         60|         0|     1|\n",
      "|          35|         64|        13|     1|\n",
      "|          35|         63|         0|     1|\n",
      "|          36|         60|         1|     1|\n",
      "|          36|         69|         0|     1|\n",
      "|          37|         60|         0|     1|\n",
      "|          37|         63|         0|     1|\n",
      "|          37|         58|         0|     1|\n",
      "|          37|         59|         6|     1|\n",
      "+------------+-----------+----------+------+\n",
      "only showing top 20 rows\n",
      "\n"
     ]
    }
   ],
   "source": [
    "dataSobrevida.show()"
   ]
  },
  {
   "cell_type": "code",
   "execution_count": 56,
   "metadata": {},
   "outputs": [],
   "source": [
    "a = [tuple(x) for x in dataSobrevida.collect()]\n",
    "b = ','.join(['%s'] * len(a))\n",
    "q = \"INSERT INTO sobrevida (IdadeOperado,AnoOperacao,QntNodulos,Status) VALUES {}\".format(b)\n",
    "cur.execute(q, a)"
   ]
  },
  {
   "cell_type": "code",
   "execution_count": 58,
   "metadata": {},
   "outputs": [
    {
     "name": "stdout",
     "output_type": "stream",
     "text": [
      "(30, 64, 1, 1)\n",
      "(30, 62, 3, 1)\n",
      "(30, 65, 0, 1)\n",
      "(31, 59, 2, 1)\n",
      "(31, 65, 4, 1)\n"
     ]
    }
   ],
   "source": [
    "#criacao de uma consulta a dados inseridos\n",
    "cur.execute(\"SELECT * FROM sobrevida;\")\n",
    "result = cur.fetchmany(5)\n",
    "for row in result:\n",
    "    print(row)\n",
    "conn.commit()"
   ]
  },
  {
   "cell_type": "code",
   "execution_count": 59,
   "metadata": {},
   "outputs": [],
   "source": [
    "#fechar cursor e conexao\n",
    "cur.close()\n",
    "conn.close()"
   ]
  },
  {
   "cell_type": "markdown",
   "metadata": {},
   "source": [
    "# Extraindo dados a partir de requisições\n",
    "    - PAG. 81"
   ]
  },
  {
   "cell_type": "code",
   "execution_count": 7,
   "metadata": {},
   "outputs": [
    {
     "name": "stdout",
     "output_type": "stream",
     "text": [
      "Requirement already satisfied: requests in c:\\users\\user\\appdata\\local\\packages\\pythonsoftwarefoundation.python.3.11_qbz5n2kfra8p0\\localcache\\local-packages\\python311\\site-packages (2.31.0)\n",
      "Requirement already satisfied: charset-normalizer<4,>=2 in c:\\users\\user\\appdata\\local\\packages\\pythonsoftwarefoundation.python.3.11_qbz5n2kfra8p0\\localcache\\local-packages\\python311\\site-packages (from requests) (3.3.2)\n",
      "Requirement already satisfied: idna<4,>=2.5 in c:\\users\\user\\appdata\\local\\packages\\pythonsoftwarefoundation.python.3.11_qbz5n2kfra8p0\\localcache\\local-packages\\python311\\site-packages (from requests) (3.6)\n",
      "Requirement already satisfied: urllib3<3,>=1.21.1 in c:\\users\\user\\appdata\\local\\packages\\pythonsoftwarefoundation.python.3.11_qbz5n2kfra8p0\\localcache\\local-packages\\python311\\site-packages (from requests) (2.2.0)\n",
      "Requirement already satisfied: certifi>=2017.4.17 in c:\\users\\user\\appdata\\local\\packages\\pythonsoftwarefoundation.python.3.11_qbz5n2kfra8p0\\localcache\\local-packages\\python311\\site-packages (from requests) (2024.2.2)\n",
      "Note: you may need to restart the kernel to use updated packages.\n"
     ]
    }
   ],
   "source": [
    "pip install requests"
   ]
  },
  {
   "cell_type": "code",
   "execution_count": 15,
   "metadata": {},
   "outputs": [],
   "source": [
    "import http.client\n",
    "import pandas as pd"
   ]
  },
  {
   "cell_type": "code",
   "execution_count": 16,
   "metadata": {},
   "outputs": [],
   "source": [
    "# URL dos Dados: NYC Open Data website’s public HTTP APIs\n",
    "url = \"https://data.cityofnewyork.us/resource/h9gi-nx95.json?$limit=500\""
   ]
  },
  {
   "cell_type": "code",
   "execution_count": 17,
   "metadata": {},
   "outputs": [],
   "source": [
    "import requests\n",
    "\n",
    "# Defina a URL desejada\n",
    "url = \"https://data.cityofnewyork.us/resource/h9gi-nx95.json?$limit=500\"\n",
    "\n",
    "# Faça a requisição GET para a URL especificada\n",
    "response = requests.get(url)\n",
    "\n",
    "# Verifique se a requisição foi bem-sucedida (status code 200)\n",
    "if response.status_code == 200:\n",
    "    # Se a requisição foi bem-sucedida, obtenha os dados da resposta no formato JSON\n",
    "    data = response.json()\n",
    "    # Agora 'data' conterá os dados da resposta no formato JSON\n",
    "else:\n",
    "    # Se a requisição falhou, imprima uma mensagem de erro\n",
    "    print(\"Erro ao fazer a requisição:\", response.status_code)\n"
   ]
  },
  {
   "cell_type": "code",
   "execution_count": 18,
   "metadata": {},
   "outputs": [],
   "source": [
    "from pyspark.sql.types import StructType, StructField, StringType"
   ]
  },
  {
   "cell_type": "code",
   "execution_count": 19,
   "metadata": {},
   "outputs": [
    {
     "name": "stdout",
     "output_type": "stream",
     "text": [
      "+--------------------+----------+--------------------+--------------------+-------------------------+------------------------+-----------------------------+----------------------------+-------------------------+------------------------+--------------------------+-------------------------+-----------------------------+-----------------------------+------------+--------------------+--------------------+\n",
      "|          crash_date|crash_time|      on_street_name|     off_street_name|number_of_persons_injured|number_of_persons_killed|number_of_pedestrians_injured|number_of_pedestrians_killed|number_of_cyclist_injured|number_of_cyclist_killed|number_of_motorist_injured|number_of_motorist_killed|contributing_factor_vehicle_1|contributing_factor_vehicle_2|collision_id|  vehicle_type_code1|  vehicle_type_code2|\n",
      "+--------------------+----------+--------------------+--------------------+-------------------------+------------------------+-----------------------------+----------------------------+-------------------------+------------------------+--------------------------+-------------------------+-----------------------------+-----------------------------+------------+--------------------+--------------------+\n",
      "|2021-09-11T00:00:...|      2:39|WHITESTONE EXPRES...|           20 AVENUE|                        2|                       0|                            0|                           0|                        0|                       0|                         2|                        0|         Aggressive Drivin...|                  Unspecified|     4455765|               Sedan|               Sedan|\n",
      "|2022-03-26T00:00:...|     11:45|QUEENSBORO BRIDGE...|                NULL|                        1|                       0|                            0|                           0|                        0|                       0|                         1|                        0|            Pavement Slippery|                         NULL|     4513547|               Sedan|                NULL|\n",
      "|2022-06-29T00:00:...|      6:55|  THROGS NECK BRIDGE|                NULL|                        0|                       0|                            0|                           0|                        0|                       0|                         0|                        0|         Following Too Clo...|                  Unspecified|     4541903|               Sedan|       Pick-up Truck|\n",
      "|2021-09-11T00:00:...|      9:35|                NULL|                NULL|                        0|                       0|                            0|                           0|                        0|                       0|                         0|                        0|                  Unspecified|                         NULL|     4456314|               Sedan|                NULL|\n",
      "|2021-12-14T00:00:...|      8:13|     SARATOGA AVENUE|      DECATUR STREET|                        0|                       0|                            0|                           0|                        0|                       0|                         0|                        0|                         NULL|                         NULL|     4486609|                NULL|                NULL|\n",
      "|2021-04-14T00:00:...|     12:47|MAJOR DEEGAN EXPR...|                NULL|                        0|                       0|                            0|                           0|                        0|                       0|                         0|                        0|                  Unspecified|                  Unspecified|     4407458|                Dump|               Sedan|\n",
      "|2021-12-14T00:00:...|     17:05|BROOKLYN QUEENS E...|                NULL|                        0|                       0|                            0|                           0|                        0|                       0|                         0|                        0|          Passing Too Closely|                  Unspecified|     4486555|               Sedan|Tractor Truck Diesel|\n",
      "|2021-12-14T00:00:...|      8:17|                NULL|                NULL|                        2|                       0|                            0|                           0|                        0|                       0|                         2|                        0|                  Unspecified|                  Unspecified|     4486660|               Sedan|               Sedan|\n",
      "|2021-12-14T00:00:...|     21:10|                NULL|                NULL|                        0|                       0|                            0|                           0|                        0|                       0|                         0|                        0|          Driver Inexperience|                  Unspecified|     4487074|               Sedan|                NULL|\n",
      "|2021-12-14T00:00:...|     14:58|            3 AVENUE|      EAST 43 STREET|                        0|                       0|                            0|                           0|                        0|                       0|                         0|                        0|          Passing Too Closely|                  Unspecified|     4486519|               Sedan|Station Wagon/Spo...|\n",
      "|2021-12-13T00:00:...|      0:34|       MYRTLE AVENUE|                NULL|                        0|                       0|                            0|                           0|                        0|                       0|                         0|                        0|         Passing or Lane U...|                  Unspecified|     4486934|Station Wagon/Spo...|                NULL|\n",
      "|2021-12-14T00:00:...|     16:50|SPRINGFIELD BOULE...|     EAST GATE PLAZA|                        0|                       0|                            0|                           0|                        0|                       0|                         0|                        0|           Turning Improperly|                  Unspecified|     4487127|               Sedan|Station Wagon/Spo...|\n",
      "|2021-12-14T00:00:...|      8:30|            broadway|west 80 street -w...|                        0|                       0|                            0|                           0|                        0|                       0|                         0|                        0|         Unsafe Lane Changing|                  Unspecified|     4486634|Station Wagon/Spo...|               Sedan|\n",
      "|2021-12-14T00:00:...|      0:59|        BELT PARKWAY|                NULL|                        0|                       0|                            0|                           0|                        0|                       0|                         0|                        0|                 Unsafe Speed|                         NULL|     4486564|               Sedan|                NULL|\n",
      "|2021-12-14T00:00:...|     23:10|NORTH CONDUIT AVENUE|          150 STREET|                        2|                       0|                            0|                           0|                        0|                       0|                         2|                        0|         Reaction to Uninv...|                  Unspecified|     4486635|               Sedan|               Sedan|\n",
      "|2021-12-14T00:00:...|     17:58|                NULL|                NULL|                        0|                       0|                            0|                           0|                        0|                       0|                         0|                        0|          Passing Too Closely|                  Unspecified|     4486604|              Tanker|Station Wagon/Spo...|\n",
      "|2021-12-14T00:00:...|     20:03|                NULL|                NULL|                        4|                       0|                            0|                           0|                        0|                       0|                         4|                        0|             Steering Failure|                         NULL|     4486991|               Sedan|                NULL|\n",
      "|2021-12-14T00:00:...|      1:28|       MEEKER AVENUE|      LORIMER STREET|                        3|                       0|                            0|                           0|                        0|                       0|                         3|                        0|         Traffic Control D...|                  Unspecified|     4486284|Station Wagon/Spo...|Station Wagon/Spo...|\n",
      "|2021-12-11T00:00:...|     19:43|WEST KINGSBRIDGE ...|        HEATH AVENUE|                        1|                       0|                            0|                           0|                        0|                       0|                         1|                        0|                  Unspecified|                  Unspecified|     4487040|Station Wagon/Spo...|               Sedan|\n",
      "|2021-12-14T00:00:...|     14:30|WHITESTONE EXPRES...|                NULL|                        0|                       0|                            0|                           0|                        0|                       0|                         0|                        0|         Following Too Clo...|                  Unspecified|     4486537|Station Wagon/Spo...|               Sedan|\n",
      "+--------------------+----------+--------------------+--------------------+-------------------------+------------------------+-----------------------------+----------------------------+-------------------------+------------------------+--------------------------+-------------------------+-----------------------------+-----------------------------+------------+--------------------+--------------------+\n",
      "only showing top 20 rows\n",
      "\n"
     ]
    }
   ],
   "source": [
    "# Inicialize a sessão do Spark\n",
    "spark = SparkSession.builder \\\n",
    "    .appName(\"Exemplo de conversão para DataFrame Spark\") \\\n",
    "    .getOrCreate()\n",
    "\n",
    "# Defina o esquema manualmente com base na estrutura dos dados\n",
    "schema = StructType([\n",
    "    StructField(\"crash_date\", StringType(), True),\n",
    "    StructField(\"crash_time\", StringType(), True),\n",
    "    StructField(\"on_street_name\", StringType(), True),\n",
    "    StructField(\"off_street_name\", StringType(), True),\n",
    "    StructField(\"number_of_persons_injured\", StringType(), True),\n",
    "    StructField(\"number_of_persons_killed\", StringType(), True),\n",
    "    StructField(\"number_of_pedestrians_injured\", StringType(), True),\n",
    "    StructField(\"number_of_pedestrians_killed\", StringType(), True),\n",
    "    StructField(\"number_of_cyclist_injured\", StringType(), True),\n",
    "    StructField(\"number_of_cyclist_killed\", StringType(), True),\n",
    "    StructField(\"number_of_motorist_injured\", StringType(), True),\n",
    "    StructField(\"number_of_motorist_killed\", StringType(), True),\n",
    "    StructField(\"contributing_factor_vehicle_1\", StringType(), True),\n",
    "    StructField(\"contributing_factor_vehicle_2\", StringType(), True),\n",
    "    StructField(\"collision_id\", StringType(), True),\n",
    "    StructField(\"vehicle_type_code1\", StringType(), True),\n",
    "    StructField(\"vehicle_type_code2\", StringType(), True)\n",
    "])\n",
    "\n",
    "# Converter o DataFrame Pandas para um DataFrame Spark com o esquema fornecido\n",
    "df_spark = spark.createDataFrame(data, schema)\n",
    "\n",
    "# Visualizar os dados do DataFrame Spark\n",
    "df_spark.show()\n"
   ]
  },
  {
   "cell_type": "markdown",
   "metadata": {},
   "source": [
    "# Selecionar algumas variáveis"
   ]
  },
  {
   "cell_type": "code",
   "execution_count": 25,
   "metadata": {},
   "outputs": [
    {
     "name": "stdout",
     "output_type": "stream",
     "text": [
      "+--------------------+--------------------+--------------------+-------------------------+\n",
      "|          crash_date|      on_street_name|     off_street_name|number_of_persons_injured|\n",
      "+--------------------+--------------------+--------------------+-------------------------+\n",
      "|2021-09-11T00:00:...|WHITESTONE EXPRES...|           20 AVENUE|                        2|\n",
      "|2022-03-26T00:00:...|QUEENSBORO BRIDGE...|                NULL|                        1|\n",
      "|2022-06-29T00:00:...|  THROGS NECK BRIDGE|                NULL|                        0|\n",
      "|2021-09-11T00:00:...|                NULL|                NULL|                        0|\n",
      "|2021-12-14T00:00:...|     SARATOGA AVENUE|      DECATUR STREET|                        0|\n",
      "|2021-04-14T00:00:...|MAJOR DEEGAN EXPR...|                NULL|                        0|\n",
      "|2021-12-14T00:00:...|BROOKLYN QUEENS E...|                NULL|                        0|\n",
      "|2021-12-14T00:00:...|                NULL|                NULL|                        2|\n",
      "|2021-12-14T00:00:...|                NULL|                NULL|                        0|\n",
      "|2021-12-14T00:00:...|            3 AVENUE|      EAST 43 STREET|                        0|\n",
      "|2021-12-13T00:00:...|       MYRTLE AVENUE|                NULL|                        0|\n",
      "|2021-12-14T00:00:...|SPRINGFIELD BOULE...|     EAST GATE PLAZA|                        0|\n",
      "|2021-12-14T00:00:...|            broadway|west 80 street -w...|                        0|\n",
      "|2021-12-14T00:00:...|        BELT PARKWAY|                NULL|                        0|\n",
      "|2021-12-14T00:00:...|NORTH CONDUIT AVENUE|          150 STREET|                        2|\n",
      "|2021-12-14T00:00:...|                NULL|                NULL|                        0|\n",
      "|2021-12-14T00:00:...|                NULL|                NULL|                        4|\n",
      "|2021-12-14T00:00:...|       MEEKER AVENUE|      LORIMER STREET|                        3|\n",
      "|2021-12-11T00:00:...|WEST KINGSBRIDGE ...|        HEATH AVENUE|                        1|\n",
      "|2021-12-14T00:00:...|WHITESTONE EXPRES...|                NULL|                        0|\n",
      "+--------------------+--------------------+--------------------+-------------------------+\n",
      "only showing top 20 rows\n",
      "\n"
     ]
    }
   ],
   "source": [
    "df_spark = df_spark.select('crash_date', 'on_street_name',\"off_street_name\",\"number_of_persons_injured\")\n",
    "df_spark.show()"
   ]
  },
  {
   "cell_type": "code",
   "execution_count": 26,
   "metadata": {},
   "outputs": [
    {
     "name": "stdout",
     "output_type": "stream",
     "text": [
      "+--------------------+--------------------+--------------------+-------------------------+\n",
      "|          crash_date|      on_street_name|     off_street_name|number_of_persons_injured|\n",
      "+--------------------+--------------------+--------------------+-------------------------+\n",
      "|2021-09-11T00:00:...|WHITESTONE EXPRES...|           20 AVENUE|                        2|\n",
      "|2022-03-26T00:00:...|QUEENSBORO BRIDGE...|                NULO|                        1|\n",
      "|2022-06-29T00:00:...|  THROGS NECK BRIDGE|                NULO|                        0|\n",
      "|2021-09-11T00:00:...|                NULO|                NULO|                        0|\n",
      "|2021-12-14T00:00:...|     SARATOGA AVENUE|      DECATUR STREET|                        0|\n",
      "|2021-04-14T00:00:...|MAJOR DEEGAN EXPR...|                NULO|                        0|\n",
      "|2021-12-14T00:00:...|BROOKLYN QUEENS E...|                NULO|                        0|\n",
      "|2021-12-14T00:00:...|                NULO|                NULO|                        2|\n",
      "|2021-12-14T00:00:...|                NULO|                NULO|                        0|\n",
      "|2021-12-14T00:00:...|            3 AVENUE|      EAST 43 STREET|                        0|\n",
      "|2021-12-13T00:00:...|       MYRTLE AVENUE|                NULO|                        0|\n",
      "|2021-12-14T00:00:...|SPRINGFIELD BOULE...|     EAST GATE PLAZA|                        0|\n",
      "|2021-12-14T00:00:...|            broadway|west 80 street -w...|                        0|\n",
      "|2021-12-14T00:00:...|        BELT PARKWAY|                NULO|                        0|\n",
      "|2021-12-14T00:00:...|NORTH CONDUIT AVENUE|          150 STREET|                        2|\n",
      "|2021-12-14T00:00:...|                NULO|                NULO|                        0|\n",
      "|2021-12-14T00:00:...|                NULO|                NULO|                        4|\n",
      "|2021-12-14T00:00:...|       MEEKER AVENUE|      LORIMER STREET|                        3|\n",
      "|2021-12-11T00:00:...|WEST KINGSBRIDGE ...|        HEATH AVENUE|                        1|\n",
      "|2021-12-14T00:00:...|WHITESTONE EXPRES...|                NULO|                        0|\n",
      "+--------------------+--------------------+--------------------+-------------------------+\n",
      "only showing top 20 rows\n",
      "\n"
     ]
    }
   ],
   "source": [
    "df_spark = df_spark.fillna('NULO')\n",
    "df_spark.show()"
   ]
  },
  {
   "cell_type": "code",
   "execution_count": 27,
   "metadata": {},
   "outputs": [],
   "source": [
    "conn = psycopg2.connect(host=\"localhost\", database=\"postgres\",\n",
    "                        user = \"postgres\",\n",
    "                        password = \"postBarata\")\n",
    "#abertura da conexao\n",
    "cur = conn.cursor()"
   ]
  },
  {
   "cell_type": "code",
   "execution_count": 71,
   "metadata": {},
   "outputs": [],
   "source": [
    "#cur.execute(\"ROLLBACK;\")"
   ]
  },
  {
   "cell_type": "code",
   "execution_count": null,
   "metadata": {},
   "outputs": [],
   "source": [
    "cur.execute(\"\"\"CREATE TABLE nyc\n",
    "           ( crash_date VARCHAR,\n",
    "             on_street_name VARCHAR,\n",
    "             off_street_name VARCHAR,\n",
    "             number_of_persons_injured VARCHAR);\"\"\")"
   ]
  },
  {
   "cell_type": "code",
   "execution_count": 28,
   "metadata": {},
   "outputs": [],
   "source": [
    "a = [tuple(x) for x in df_spark.collect()]\n",
    "b = ','.join(['%s'] * len(a))\n",
    "q = \"INSERT INTO nyc (crash_date,on_street_name,off_street_name,number_of_persons_injured) VALUES {}\".format(b)\n",
    "cur.execute(q, a)"
   ]
  },
  {
   "cell_type": "code",
   "execution_count": 29,
   "metadata": {},
   "outputs": [],
   "source": [
    "#fechar cursor e conexao\n",
    "cur.close()\n",
    "conn.close()"
   ]
  },
  {
   "cell_type": "markdown",
   "metadata": {},
   "source": [
    "# Puxando tabela do PostgreSQL"
   ]
  },
  {
   "cell_type": "code",
   "execution_count": 6,
   "metadata": {},
   "outputs": [
    {
     "name": "stdout",
     "output_type": "stream",
     "text": [
      "+--------------------+--------------------+---------------+-------------------------+\n",
      "|          crash_date|      on_street_name|off_street_name|number_of_persons_injured|\n",
      "+--------------------+--------------------+---------------+-------------------------+\n",
      "|2021-09-11T00:00:...|WHITESTONE EXPRES...|      20 AVENUE|                        2|\n",
      "|2022-03-26T00:00:...|QUEENSBORO BRIDGE...|            NaN|                        1|\n",
      "|2022-06-29T00:00:...|  THROGS NECK BRIDGE|            NaN|                        0|\n",
      "|2021-09-11T00:00:...|                 NaN|            NaN|                        0|\n",
      "|2021-12-14T00:00:...|     SARATOGA AVENUE| DECATUR STREET|                        0|\n",
      "|2021-04-14T00:00:...|MAJOR DEEGAN EXPR...|            NaN|                        0|\n",
      "|2021-12-14T00:00:...|BROOKLYN QUEENS E...|            NaN|                        0|\n",
      "|2021-12-14T00:00:...|                 NaN|            NaN|                        2|\n",
      "|2021-12-14T00:00:...|                 NaN|            NaN|                        0|\n",
      "|2021-12-14T00:00:...|            3 AVENUE| EAST 43 STREET|                        0|\n",
      "+--------------------+--------------------+---------------+-------------------------+\n",
      "\n"
     ]
    }
   ],
   "source": [
    "from pyspark.sql import SparkSession\n",
    "from pyspark.sql.types import StructType, StructField, StringType\n",
    "\n",
    "# Importar a biblioteca psycopg2\n",
    "import psycopg2\n",
    "\n",
    "# Crie uma sessão do Spark\n",
    "spark = SparkSession.builder \\\n",
    "    .appName(\"Lendo dados do PostgreSQL e convertendo para DataFrame Spark\") \\\n",
    "    .getOrCreate()\n",
    "\n",
    "# Conectar ao banco de dados PostgreSQL\n",
    "conn = psycopg2.connect(\n",
    "    database=\"postgres\",\n",
    "    user=\"postgres\",\n",
    "    password=\"postBarata\",\n",
    "    host=\"localhost\"\n",
    ")\n",
    "\n",
    "# Criar um cursor\n",
    "cur = conn.cursor()\n",
    "\n",
    "# Consulta para selecionar os dados da tabela\n",
    "query = \"SELECT * FROM nyc LIMIT 10;\"  # Limitando a 10 linhas apenas para exemplo\n",
    "\n",
    "# Executar a consulta\n",
    "cur.execute(query)\n",
    "\n",
    "# Recuperar os nomes das colunas\n",
    "columns = [desc[0] for desc in cur.description]\n",
    "\n",
    "# Recuperar os resultados\n",
    "rows = cur.fetchall()\n",
    "\n",
    "# Fechar o cursor e a conexão\n",
    "cur.close()\n",
    "conn.close()\n",
    "\n",
    "# Criar um schema para o DataFrame Spark\n",
    "schema = StructType([StructField(col_name, StringType(), True) for col_name in columns])\n",
    "\n",
    "# Criar um DataFrame Spark a partir dos resultados da consulta\n",
    "df = spark.createDataFrame(rows, schema)\n",
    "\n",
    "# Exibir os dados do DataFrame Spark\n",
    "df.show()\n"
   ]
  }
 ],
 "metadata": {
  "kernelspec": {
   "display_name": "base",
   "language": "python",
   "name": "python3"
  },
  "language_info": {
   "codemirror_mode": {
    "name": "ipython",
    "version": 3
   },
   "file_extension": ".py",
   "mimetype": "text/x-python",
   "name": "python",
   "nbconvert_exporter": "python",
   "pygments_lexer": "ipython3",
   "version": "3.11.8"
  }
 },
 "nbformat": 4,
 "nbformat_minor": 2
}
