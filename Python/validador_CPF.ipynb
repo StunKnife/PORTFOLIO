{
 "cells": [
  {
   "cell_type": "markdown",
   "metadata": {},
   "source": [
    "# C6Bank - Case - Saul de A. Souza\n",
    "    - Cenário: usando bibliotecas cientificas em Python , crie um validador de CPF, em Jupyter Notebook, valide os números de 0 a 10_000_000. Otimize seu código e mensure a diferença de velocidade. Tenha em mente o porquê das suas decisões para a entrevista."
   ]
  },
  {
   "cell_type": "markdown",
   "metadata": {},
   "source": [
    "## O que é um validador e CPF\n",
    "    - Um validador de CPF é uma função ou programa que verifica se um número de CPF (Cadastro de Pessoas Físicas) fornecido é válido de acordo com as regras estabelecidas. Para um CPF ser válido não basta apenas atender à máscara \"###.###.###-##\" (o caractere '#' representa um número), existe uma regra matemática que também deve ser verificada para um CPF ser considerado válido."
   ]
  },
  {
   "cell_type": "markdown",
   "metadata": {},
   "source": [
    "\n",
    "## CPF UTILIZANDO COMO EXEMPLO: 529.982.247-25\n",
    "    O cálculo para validar um CPF é especificado pelo Ministério da Fazenda. Vamos entender como funciona.\n",
    "\n",
    "## Validação do primeiro dígito\n",
    "    1. Primeiramente multiplica-se os 9 primeiros dígitos pela sequência decrescente de números de 10 à 2 e soma os resultados. Assim: 5 * 10 + 2 * 9 + 9 * 8 + 9 * 7 + 8 * 6 + 2 * 5 + 2 * 4 + 4 * 3 + 7 * 2\n",
    "    2. O resultado do nosso exemplo é: 295\n",
    "    3. O próximo passo da verificação também é simples, basta multiplicarmos esse resultado por 10 e dividirmos por 11: 295 * 10 / 11\n",
    "    4. O resultado que nos interessa na verdade é o RESTO da divisão\n",
    "    5. Se ele for igual ao primeiro dígito verificador (primeiro dígito depois do '-'), a primeira parte da validação está correta\n",
    "    6. Observação Importante: Se o resto da divisão for igual a 10, nós o consideramos como 0\n",
    "    7. O resultado da divisão acima é '268' e o RESTO é 2\n",
    "    8. Isso significa que o nosso CPF exemplo passou na validação do primeiro dígito\n",
    "\n",
    "## Validação do segundo dígito\n",
    "    1. A validação do segundo dígito é semelhante à primeira, porém vamos considerar os 9 primeiros dígitos, mais o primeiro dígito verificador, e vamos multiplicar esses 10 números pela sequencia decrescente de 11 a 2\n",
    "    2. ou seja: 5 * 11 + 2 * 10 + 9 * 9 + 9 * 8 + 8 * 7 + 2 * 6 + 2 * 5 + 4 * 4 + 7 * 3 + 2 * 2\n",
    "    3. O resultado é: 347\n",
    "    4. Seguindo o mesmo processo da primeira verificação, multiplicamos por 10 e dividimos por 11\n",
    "    5. 347 * 10 / 11\n",
    "    6. Verificando o RESTO, como fizemos anteriormente, temos: O resultado da divisão é '315' e o RESTO é 5\n",
    "    7. Verificamos, se o resto corresponde ao segundo dígito verificador.\n",
    "    8. Com essa verificação, constatamos que o CPF 529.982.247-25 é válido.\n"
   ]
  },
  {
   "cell_type": "markdown",
   "metadata": {},
   "source": [
    "## CPFS INVÁLIDOS CONHECIDOS\n",
    "    Existe alguns casos de CPFs que passam nessa validação que expliquei, mas que ainda são inválidos. É os caso dos CPFs com dígitos repetidos (111.111.111-11, 222.222.222-22, ...)"
   ]
  },
  {
   "cell_type": "markdown",
   "metadata": {},
   "source": [
    "# Algoritmo para Validar CPF\n",
    "    - Como os números de 0 a 10000000 não possuem 11 dígitos, utilizarei 0's a esquerda do número para manter a quantidade de digitos necessários na estrutura de um CPF\n",
    "    - Na sequência irei trabalhar com os CPF's tranformados em String\n",
    "    - Construo um algoritmo versão 1 e outro versão 2 otimizado\n",
    "    - calculo a diferença no tempo de execução dos dois algoritmos\n",
    "    - Os resultados serão salvos em um arquivo TXT (CPF'S válidos e inválidos), pois aplicar prints consome muita memória"
   ]
  },
  {
   "cell_type": "code",
   "execution_count": 6,
   "metadata": {},
   "outputs": [
    {
     "name": "stdout",
     "output_type": "stream",
     "text": [
      "Tempo de execução: 43.00762486457825 segundos\n"
     ]
    }
   ],
   "source": [
    "import time\n",
    "\n",
    "def validaCPF(cpf):\n",
    "    # preenche com zeros à esquerda até 11 dígitos. Transforma CPF em String\n",
    "    cpf = str(cpf).zfill(11)\n",
    "    \n",
    "    # Verifica se todos os dígitos são iguais, o que configura um CPF inválido\n",
    "    if len(set(cpf)) == 1: #set: identifica os valores únicos. Se a quantidade de valores únicos for igual a 1 é pq todos os números são iguais\n",
    "        return False # retorna FALSE, ou seja, não é valido\n",
    "    \n",
    "    # Calcula o primeiro dígito verificador\n",
    "    soma1 = sum(int(cpf[i]) * (10 - i) for i in range(9))  # Seleciona o primeiro Digito de CPF e  multiplica por 10. Em cada iteração subtrai -1 do 10 e seleciona um outro digito. Por fim, soma todas as parcelas\n",
    "    resto1 = (soma1 * 10) % 11  # multiplica a soma das parcelas por 10 e divide por 11. %: retorna o resto da divisão\n",
    "    if resto1 == 10:  # Observação: se o resto é 10 então equivale a 0\n",
    "        resto1 = 0\n",
    "    \n",
    "    # Calcula o segundo dígito verificador\n",
    "    soma2 = sum(int(cpf[i]) * (11 - i) for i in range(10)) # Seleciona o primeiro Digito de CPF e  multiplica por 11. Em cada iteração subtrai -1 do 11 e seleciona um outro digito. Por fim, soma todas as parcelas\n",
    "    resto2 = (soma2 * 10) % 11 # multiplica a soma das parcelas por 10 e divide por 11. %: retorna o resto da divisão\n",
    "    if resto2 == 10: # Observação: se o resto é 10 então equivale a 0\n",
    "        resto2 = 0\n",
    "    \n",
    "    # Verifica se os dígitos verificadores estão corretos\n",
    "    return int(cpf[9]) == resto1 and int(cpf[10]) == resto2  # Retorna um valor lógico TRUE (se Válido) ou FALSE (se não Válido)\n",
    "\n",
    "# Inicia a contagem de tempo\n",
    "start_time = time.time()   # Marcador de tempo para executar o algoritmo\n",
    "\n",
    "# Abre o arquivo TXT em modo de escrita\n",
    "with open('cpf_resultados.txt', mode='w') as file:   # Salvar os dados no formato TXT uma vez que exige muita memória para print\n",
    "    \n",
    "    # Valida todos os CPFs de 0 a 10 milhões e escreve os resultados no arquivo TXT\n",
    "    for cpf in range(10_000_001):\n",
    "        if validaCPF(cpf):\n",
    "            file.write(f\"CPF {cpf:011} é válido!\\n\")  # CPF Válido se TRUE\n",
    "        else:\n",
    "            file.write(f\"CPF {cpf:011} é inválido!\\n\") # CPF inválido se FALSE\n",
    "\n",
    "# Calcula o tempo de execução\n",
    "execution_time = time.time() - start_time  \n",
    "print(\"Tempo de execução:\", execution_time, \"segundos\") # Retorna o tempo de execução\n"
   ]
  },
  {
   "cell_type": "markdown",
   "metadata": {},
   "source": [
    "# Pedidos do CASE:\n",
    "    - Otimize seu código \n",
    "    - Mensure a diferença de velocidade. \n",
    "\n",
    "- Então, irei criar uma versão otimizada e calcular a diferença entre os tempos de execução entre os dois algoritmos"
   ]
  },
  {
   "cell_type": "markdown",
   "metadata": {},
   "source": [
    "## Código otimizado"
   ]
  },
  {
   "cell_type": "code",
   "execution_count": 7,
   "metadata": {},
   "outputs": [
    {
     "name": "stdout",
     "output_type": "stream",
     "text": [
      "Tempo de execução: 37.495712757110596 segundos\n"
     ]
    }
   ],
   "source": [
    "import time\n",
    "\n",
    "def validaCPF(cpf):\n",
    "    # preenche com zeros à esquerda até 11 dígitos. Converte em string\n",
    "    cpf = str(cpf).zfill(11)\n",
    "    \n",
    "    # Verifica se todos os dígitos são iguais, o que configura um CPF inválido\n",
    "    if len(set(cpf)) == 1:  \n",
    "        return False\n",
    "    \n",
    "    # Calcula o primeiro dígito verificador\n",
    "    # Utilizar esse padrão de soma para as parcelas, aparentemente otimiza o código. Sum: exige a criação de listas dentro do LOOP.\n",
    "    soma1 = 0 # A soma inicia em 0 e é atualizada em cada iteração\n",
    "    peso = 10 # o peso inicial em 10 e é atualizado em cada iteração\n",
    "    for i in range(9): \n",
    "        soma1 += int(cpf[i]) * peso  #utilizar esse tipo de soma melhora o tempo de execução \n",
    "        peso -= 1\n",
    "    resto1 = (soma1 * 10) % 11\n",
    "    if resto1 == 10:  # se resto é igual a zero, chame de 0\n",
    "        resto1 = 0\n",
    "    \n",
    "    # Calcula o segundo dígito verificador\n",
    "    # Evitar o uso de SUM melhora o tempo de execução do algoritmo.\n",
    "    soma2 = 0 # A soma inicia em 0 e é atualizada em cada iteração\n",
    "    peso = 11 # o peso inicial em 11 e é atualizado em cada iteração\n",
    "    for i in range(10):\n",
    "        soma2 += int(cpf[i]) * peso\n",
    "        peso -= 1\n",
    "    resto2 = (soma2 * 10) % 11\n",
    "    if resto2 == 10: # se resto é igual a zero, chame de 0\n",
    "        resto2 = 0\n",
    "    \n",
    "    # Verifica se os dígitos verificadores estão corretos\n",
    "    return int(cpf[9]) == resto1 and int(cpf[10]) == resto2 # Retorna um valor lógico TRUE (se Válido) ou FALSE (se não Válido)\n",
    "\n",
    "# Inicia a contagem de tempo\n",
    "start_time = time.time() # Marcador de tempo para executar o algoritmo\n",
    "\n",
    "# Abre o arquivo TXT em modo de escrita\n",
    "with open('cpf_resultados.txt', mode='w') as file:\n",
    "    \n",
    "    # Valida todos os CPFs de 0 a 10 milhões e escreve os resultados no arquivo TXT\n",
    "    for cpf in range(10_000_001):\n",
    "        if validaCPF(cpf):\n",
    "            file.write(f\"CPF {cpf:011} é válido!\\n\") # CPF Válido se TRUE\n",
    "        else:\n",
    "            file.write(f\"CPF {cpf:011} é inválido!\\n\") # CPF inválido se FALSE\n",
    "\n",
    "# Calcula o tempo de execução\n",
    "execution_time_otimizado = time.time() - start_time\n",
    "print(\"Tempo de execução:\", execution_time_otimizado, \"segundos\")\n"
   ]
  },
  {
   "cell_type": "markdown",
   "metadata": {},
   "source": [
    "## Calculando a diferença de tempo de execução entre os dois códigos"
   ]
  },
  {
   "cell_type": "code",
   "execution_count": 8,
   "metadata": {},
   "outputs": [
    {
     "data": {
      "text/plain": [
       "5.511912107467651"
      ]
     },
     "execution_count": 8,
     "metadata": {},
     "output_type": "execute_result"
    }
   ],
   "source": [
    "# Existe uma diferença de 6.6 segundos\n",
    "execution_time-execution_time_otimizado"
   ]
  }
 ],
 "metadata": {
  "kernelspec": {
   "display_name": "Python 3",
   "language": "python",
   "name": "python3"
  },
  "language_info": {
   "codemirror_mode": {
    "name": "ipython",
    "version": 3
   },
   "file_extension": ".py",
   "mimetype": "text/x-python",
   "name": "python",
   "nbconvert_exporter": "python",
   "pygments_lexer": "ipython3",
   "version": "3.11.8"
  }
 },
 "nbformat": 4,
 "nbformat_minor": 2
}
