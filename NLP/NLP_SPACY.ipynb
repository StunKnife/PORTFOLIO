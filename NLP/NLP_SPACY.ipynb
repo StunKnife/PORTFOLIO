{
 "cells": [
  {
   "cell_type": "markdown",
   "metadata": {},
   "source": [
    "# NLP - SPACY"
   ]
  },
  {
   "cell_type": "markdown",
   "metadata": {},
   "source": [
    "- Spacy: biblioteca de NLP"
   ]
  },
  {
   "cell_type": "code",
   "execution_count": 131,
   "metadata": {},
   "outputs": [],
   "source": [
    "#!pip install -U spacy==3.2.0"
   ]
  },
  {
   "cell_type": "markdown",
   "metadata": {},
   "source": [
    "- Instalando modelo de NLP: lg (Large)"
   ]
  },
  {
   "cell_type": "code",
   "execution_count": 132,
   "metadata": {},
   "outputs": [],
   "source": [
    "#!python -m spacy download pt_core_news_lg\n"
   ]
  },
  {
   "cell_type": "code",
   "execution_count": 133,
   "metadata": {},
   "outputs": [],
   "source": [
    "import spacy"
   ]
  },
  {
   "cell_type": "markdown",
   "metadata": {},
   "source": [
    "- Modelo em Portguês"
   ]
  },
  {
   "cell_type": "code",
   "execution_count": 134,
   "metadata": {},
   "outputs": [],
   "source": [
    "# Criar o objeto com o modelo que se quer utilizar\n",
    "nlp = spacy.load('pt_core_news_lg')"
   ]
  },
  {
   "cell_type": "markdown",
   "metadata": {},
   "source": [
    "- Objeto nlp: <class 'spacy.lang.pt.Portuguese'>\n",
    "- Quando se cria o objeto o spacy constroi um pipeline com várias etapas de pre-processing\n",
    "- É possível personalizar o pipeline padrão"
   ]
  },
  {
   "cell_type": "code",
   "execution_count": 135,
   "metadata": {},
   "outputs": [
    {
     "name": "stdout",
     "output_type": "stream",
     "text": [
      "<class 'spacy.lang.pt.Portuguese'>\n"
     ]
    }
   ],
   "source": [
    "print(type(nlp))"
   ]
  },
  {
   "cell_type": "markdown",
   "metadata": {},
   "source": [
    "- É possível visualizar as tarefas dentro do pipeline padrão: ['tok2vec', 'morphologizer', 'parser', 'lemmatizer', 'attribute_ruler', 'ner']"
   ]
  },
  {
   "cell_type": "code",
   "execution_count": 136,
   "metadata": {},
   "outputs": [
    {
     "name": "stdout",
     "output_type": "stream",
     "text": [
      "['tok2vec', 'morphologizer', 'parser', 'lemmatizer', 'attribute_ruler', 'ner']\n"
     ]
    }
   ],
   "source": [
    "print(nlp.pipe_names)"
   ]
  },
  {
   "cell_type": "markdown",
   "metadata": {},
   "source": [
    "- Vamos criar um Documento e transformar em um objeto DOC do spacy"
   ]
  },
  {
   "cell_type": "code",
   "execution_count": 137,
   "metadata": {},
   "outputs": [],
   "source": [
    "# Criando documento a partir do objeto NLP\n",
    "documento = nlp(\"As ações do Magazine Luiza S.A., Franca, Brasil, acumularam baixa de 70% ao ano. Assim já devolveram todos os ganhos do período da pandemia\")\n",
    "documento2 = nlp(\"Alegações extraordinárias requerem evidências extraordinárias. Carl Sagan: 'https://carlsagan.com'\")"
   ]
  },
  {
   "cell_type": "code",
   "execution_count": 138,
   "metadata": {},
   "outputs": [
    {
     "data": {
      "text/plain": [
       "382"
      ]
     },
     "execution_count": 138,
     "metadata": {},
     "output_type": "execute_result"
    }
   ],
   "source": [
    "# Tamanho do documento\n",
    "len(documento.vocab)"
   ]
  },
  {
   "cell_type": "markdown",
   "metadata": {},
   "source": [
    "- Objetos do tipo DOC do SPACY é composto por tokens\n",
    "- A criação dos tokens não é opcional: é criada sempre"
   ]
  },
  {
   "cell_type": "code",
   "execution_count": 139,
   "metadata": {},
   "outputs": [
    {
     "name": "stdout",
     "output_type": "stream",
     "text": [
      "<class 'spacy.tokens.doc.Doc'>\n"
     ]
    }
   ],
   "source": [
    "# Tipo de documento: DOC do SPACY\n",
    "print(type(documento))"
   ]
  },
  {
   "cell_type": "markdown",
   "metadata": {},
   "source": [
    "- Imprimento o token do documento\n",
    "- A pontuação é preservada\n",
    "- Entendeu que S.A. é uma palavra. Não separou"
   ]
  },
  {
   "cell_type": "code",
   "execution_count": 140,
   "metadata": {},
   "outputs": [
    {
     "name": "stdout",
     "output_type": "stream",
     "text": [
      "As\n",
      "ações\n",
      "do\n",
      "Magazine\n",
      "Luiza\n",
      "S.A.\n",
      ",\n",
      "Franca\n",
      ",\n",
      "Brasil\n",
      ",\n",
      "acumularam\n",
      "baixa\n",
      "de\n",
      "70\n",
      "%\n",
      "ao\n",
      "ano\n",
      ".\n",
      "Assim\n",
      "já\n",
      "devolveram\n",
      "todos\n",
      "os\n",
      "ganhos\n",
      "do\n",
      "período\n",
      "da\n",
      "pandemia\n"
     ]
    }
   ],
   "source": [
    "for token in documento:\n",
    "    print(token.text)"
   ]
  },
  {
   "cell_type": "code",
   "execution_count": 141,
   "metadata": {},
   "outputs": [
    {
     "name": "stdout",
     "output_type": "stream",
     "text": [
      "Alegações\n",
      "extraordinárias\n",
      "requerem\n",
      "evidências\n",
      "extraordinárias\n",
      ".\n",
      "Carl\n",
      "Sagan\n",
      ":\n",
      "'\n",
      "https://carlsagan.com\n",
      "'\n"
     ]
    }
   ],
   "source": [
    "for token in documento2:\n",
    "    print(token.text)"
   ]
  },
  {
   "cell_type": "code",
   "execution_count": 142,
   "metadata": {},
   "outputs": [
    {
     "name": "stdout",
     "output_type": "stream",
     "text": [
      "Magazine\n"
     ]
    }
   ],
   "source": [
    "# Token na posição 3\n",
    "print(documento[3])"
   ]
  },
  {
   "cell_type": "markdown",
   "metadata": {},
   "source": [
    "- Selecionar uma parte do texto: token 3 ao 4"
   ]
  },
  {
   "cell_type": "code",
   "execution_count": 143,
   "metadata": {},
   "outputs": [
    {
     "name": "stdout",
     "output_type": "stream",
     "text": [
      "Magazine Luiza\n"
     ]
    }
   ],
   "source": [
    "print(documento[3:5])# de 3 a 5, ele pega de 3 a 4"
   ]
  },
  {
   "cell_type": "code",
   "execution_count": 144,
   "metadata": {},
   "outputs": [
    {
     "data": {
      "text/plain": [
       "29"
      ]
     },
     "execution_count": 144,
     "metadata": {},
     "output_type": "execute_result"
    }
   ],
   "source": [
    "# Quantidade de tokens no documento\n",
    "len(documento)"
   ]
  },
  {
   "cell_type": "markdown",
   "metadata": {},
   "source": [
    "- Identificar atributos que não tem contexto\n",
    "- Informando o tipo do Token"
   ]
  },
  {
   "cell_type": "code",
   "execution_count": 145,
   "metadata": {},
   "outputs": [
    {
     "name": "stdout",
     "output_type": "stream",
     "text": [
      "Tokens:  ['As', 'ações', 'do', 'Magazine', 'Luiza', 'S.A.', ',', 'Franca', ',', 'Brasil', ',', 'acumularam', 'baixa', 'de', '70', '%', 'ao', 'ano', '.', 'Assim', 'já', 'devolveram', 'todos', 'os', 'ganhos', 'do', 'período', 'da', 'pandemia']\n",
      "Stop Word:  [True, False, True, False, False, False, False, False, False, False, False, False, False, True, False, False, True, False, False, True, True, False, True, True, False, True, False, True, False]\n",
      "Alfanumérico:  [True, True, True, True, True, False, False, True, False, True, False, True, True, True, False, False, True, True, False, True, True, True, True, True, True, True, True, True, True]\n",
      "Maiúsculo:  [False, False, False, False, False, True, False, False, False, False, False, False, False, False, False, False, False, False, False, False, False, False, False, False, False, False, False, False, False]\n",
      "Pontuação:  [False, False, False, False, False, False, True, False, True, False, True, False, False, False, False, True, False, False, True, False, False, False, False, False, False, False, False, False, False]\n",
      "Número:  [False, False, False, False, False, False, False, False, False, False, False, False, False, False, True, False, False, False, False, False, False, False, False, False, False, False, False, False, False]\n",
      "Sentença Inicial:  [True, False, False, False, False, False, False, False, False, False, False, False, False, False, False, False, False, False, False, True, False, False, False, False, False, False, False, False, False]\n"
     ]
    }
   ],
   "source": [
    "print(\"Tokens: \", [token.text for token in documento])\n",
    "print(\"Stop Word: \", [token.is_stop for token in documento])\n",
    "print(\"Alfanumérico: \", [token.is_alpha for token in documento])\n",
    "print(\"Maiúsculo: \", [token.is_upper for token in documento])\n",
    "print(\"Pontuação: \", [token.is_punct for token in documento])\n",
    "print(\"Número: \", [token.like_num for token in documento])\n",
    "print(\"Sentença Inicial: \", [token.is_sent_start for token in documento])"
   ]
  },
  {
   "cell_type": "markdown",
   "metadata": {},
   "source": [
    "- Você pode querer remover pontuação, stopword ou outro tipo. Por isso é importante a identificação"
   ]
  },
  {
   "cell_type": "code",
   "execution_count": 146,
   "metadata": {},
   "outputs": [
    {
     "name": "stdout",
     "output_type": "stream",
     "text": [
      "Tokens:  ['As', 'ações', 'do', 'Magazine', 'Luiza', 'S.A.', ',', 'Franca', ',', 'Brasil', ',', 'acumularam', 'baixa', 'de', '70', '%', 'ao', 'ano', '.', 'Assim', 'já', 'devolveram', 'todos', 'os', 'ganhos', 'do', 'período', 'da', 'pandemia']\n",
      "Stop Word:  ['Xx', 'xxxx', 'xx', 'Xxxxx', 'Xxxxx', 'X.X.', ',', 'Xxxxx', ',', 'Xxxxx', ',', 'xxxx', 'xxxx', 'xx', 'dd', '%', 'xx', 'xxx', '.', 'Xxxxx', 'xx', 'xxxx', 'xxxx', 'xx', 'xxxx', 'xx', 'xxxx', 'xx', 'xxxx']\n"
     ]
    }
   ],
   "source": [
    "# Formato do Token - É importante para processar documento\n",
    "print(\"Tokens: \", [token.text for token in documento])\n",
    "print(\"Stop Word: \", [token.shape_ for token in documento])"
   ]
  },
  {
   "cell_type": "markdown",
   "metadata": {},
   "source": [
    "- Vamos pesquisar elementos numéricos ou "
   ]
  },
  {
   "cell_type": "code",
   "execution_count": 147,
   "metadata": {},
   "outputs": [
    {
     "name": "stdout",
     "output_type": "stream",
     "text": [
      "Pontuação Encontrada:  ,\n",
      "Pontuação Encontrada:  ,\n",
      "Pontuação Encontrada:  ,\n",
      "Número Encontrado:  70\n",
      "Pontuação Encontrada:  %\n",
      "Pontuação Encontrada:  .\n"
     ]
    }
   ],
   "source": [
    "for token in documento:\n",
    "    if token.like_num:\n",
    "        print(\"Número Encontrado: \", token.text)\n",
    "    if token.is_punct:\n",
    "        print(\"Pontuação Encontrada: \", token.text)"
   ]
  },
  {
   "cell_type": "markdown",
   "metadata": {},
   "source": [
    "- O _ a seguir serve para trazer a representação textual: sem isso, tras o número"
   ]
  },
  {
   "cell_type": "code",
   "execution_count": 148,
   "metadata": {},
   "outputs": [
    {
     "name": "stdout",
     "output_type": "stream",
     "text": [
      "As  -  DET  -  det  -  o  -  Xx\n",
      "ações  -  NOUN  -  nsubj  -  ação  -  xxxx\n",
      "do  -  ADP  -  case  -  de o  -  xx\n",
      "Magazine  -  PROPN  -  nmod  -  Magazine  -  Xxxxx\n",
      "Luiza  -  PROPN  -  appos  -  Luiza  -  Xxxxx\n",
      "S.A.  -  PROPN  -  flat:name  -  S.A.  -  X.X.\n",
      ",  -  PUNCT  -  punct  -  ,  -  ,\n",
      "Franca  -  PROPN  -  conj  -  Franca  -  Xxxxx\n",
      ",  -  PUNCT  -  punct  -  ,  -  ,\n",
      "Brasil  -  PROPN  -  conj  -  Brasil  -  Xxxxx\n",
      ",  -  PUNCT  -  punct  -  ,  -  ,\n",
      "acumularam  -  VERB  -  ROOT  -  acumular  -  xxxx\n",
      "baixa  -  NOUN  -  obj  -  baixa  -  xxxx\n",
      "de  -  ADP  -  case  -  de  -  xx\n",
      "70  -  NUM  -  nummod  -  70  -  dd\n",
      "%  -  SYM  -  nmod  -  %  -  %\n",
      "ao  -  ADP  -  case  -  a o  -  xx\n",
      "ano  -  NOUN  -  nmod  -  ano  -  xxx\n",
      ".  -  PUNCT  -  punct  -  .  -  .\n",
      "Assim  -  ADV  -  advmod  -  assim  -  Xxxxx\n",
      "já  -  ADV  -  advmod  -  já  -  xx\n",
      "devolveram  -  VERB  -  ROOT  -  devolver  -  xxxx\n",
      "todos  -  DET  -  det  -  todo  -  xxxx\n",
      "os  -  DET  -  det  -  o  -  xx\n",
      "ganhos  -  NOUN  -  obj  -  ganho  -  xxxx\n",
      "do  -  ADP  -  case  -  de o  -  xx\n",
      "período  -  NOUN  -  nmod  -  período  -  xxxx\n",
      "da  -  ADP  -  case  -  de o  -  xx\n",
      "pandemia  -  NOUN  -  nmod  -  pandemia  -  xxxx\n"
     ]
    }
   ],
   "source": [
    "for token in documento:\n",
    "    print(token.text, \" - \", token.pos_ , \" - \", token.dep_ , \" - \", token.lemma_ , \" - \", token.shape_)"
   ]
  },
  {
   "cell_type": "markdown",
   "metadata": {},
   "source": [
    "- Isso acontece pois o NLP trabalha com números"
   ]
  },
  {
   "cell_type": "code",
   "execution_count": 149,
   "metadata": {},
   "outputs": [
    {
     "name": "stdout",
     "output_type": "stream",
     "text": [
      "As  -  90  -  415  -  1489474827855109852  -  12204527652707022206\n",
      "ações  -  92  -  429  -  7281034482467035345  -  13110060611322374290\n",
      "do  -  85  -  8110129090154140942  -  12950005104698871082  -  4370460163704169311\n",
      "Magazine  -  96  -  426  -  475134985396613654  -  16072095006890171862\n",
      "Luiza  -  96  -  403  -  15824816097074282294  -  16072095006890171862\n",
      "S.A.  -  96  -  17772752594865228322  -  14572827027234061171  -  9346084826459880894\n",
      ",  -  97  -  445  -  2593208677638477497  -  2593208677638477497\n",
      "Franca  -  96  -  410  -  7113486204488927274  -  16072095006890171862\n",
      ",  -  97  -  445  -  2593208677638477497  -  2593208677638477497\n",
      "Brasil  -  96  -  410  -  16970572670701158181  -  16072095006890171862\n",
      ",  -  97  -  445  -  2593208677638477497  -  2593208677638477497\n",
      "acumularam  -  100  -  8206900633647566924  -  12070761697871444291  -  13110060611322374290\n",
      "baixa  -  92  -  434  -  13225109099391061592  -  13110060611322374290\n",
      "de  -  85  -  8110129090154140942  -  11144093025662894627  -  4370460163704169311\n",
      "70  -  93  -  12837356684637874264  -  17272628333277205899  -  4620368362210911820\n",
      "%  -  99  -  426  -  16590897233515608007  -  16590897233515608007\n",
      "ao  -  85  -  8110129090154140942  -  11201424326954405526  -  4370460163704169311\n",
      "ano  -  92  -  426  -  13332175455956073684  -  4088098365541558500\n",
      ".  -  97  -  445  -  12646065887601541794  -  12646065887601541794\n",
      "Assim  -  86  -  400  -  2157091415331185264  -  16072095006890171862\n",
      "já  -  86  -  400  -  1516308481664905524  -  4370460163704169311\n",
      "devolveram  -  100  -  8206900633647566924  -  5641196820702079606  -  13110060611322374290\n",
      "todos  -  90  -  415  -  1039296168925561739  -  13110060611322374290\n",
      "os  -  90  -  415  -  1489474827855109852  -  4370460163704169311\n",
      "ganhos  -  92  -  434  -  17945569009849051948  -  13110060611322374290\n",
      "do  -  85  -  8110129090154140942  -  12950005104698871082  -  4370460163704169311\n",
      "período  -  92  -  426  -  7208110346629541327  -  13110060611322374290\n",
      "da  -  85  -  8110129090154140942  -  12950005104698871082  -  4370460163704169311\n",
      "pandemia  -  92  -  426  -  61843097661406499  -  13110060611322374290\n"
     ]
    }
   ],
   "source": [
    "for token in documento:\n",
    "    print(token.text, \" - \", token.pos , \" - \", token.dep , \" - \", token.lemma , \" - \", token.shape)"
   ]
  },
  {
   "cell_type": "code",
   "execution_count": 150,
   "metadata": {},
   "outputs": [
    {
     "name": "stdout",
     "output_type": "stream",
     "text": [
      "As  -  Definite=Def|Gender=Fem|Number=Plur|PronType=Art\n",
      "ações  -  Gender=Fem|Number=Plur\n",
      "do  -  Definite=Def|Gender=Masc|Number=Sing|PronType=Art\n",
      "Magazine  -  Gender=Fem|Number=Sing\n",
      "Luiza  -  Gender=Fem|Number=Sing\n",
      "S.A.  -  Number=Sing\n",
      ",  -  \n",
      "Franca  -  Gender=Fem|Number=Sing\n",
      ",  -  \n",
      "Brasil  -  Gender=Masc|Number=Sing\n",
      ",  -  \n",
      "acumularam  -  Mood=Ind|Number=Plur|Person=3|Tense=Past|VerbForm=Fin\n",
      "baixa  -  Gender=Fem|Number=Sing\n",
      "de  -  \n",
      "70  -  NumType=Card\n",
      "%  -  \n",
      "ao  -  Definite=Def|Gender=Masc|Number=Sing|PronType=Art\n",
      "ano  -  Gender=Masc|Number=Sing\n",
      ".  -  \n",
      "Assim  -  \n",
      "já  -  \n",
      "devolveram  -  Mood=Ind|Number=Plur|Person=3|Tense=Past|VerbForm=Fin\n",
      "todos  -  Gender=Masc|Number=Plur|PronType=Tot\n",
      "os  -  Definite=Def|Gender=Masc|Number=Plur|PronType=Art\n",
      "ganhos  -  Gender=Masc|Number=Plur\n",
      "do  -  Definite=Def|Gender=Masc|Number=Sing|PronType=Art\n",
      "período  -  Gender=Masc|Number=Sing\n",
      "da  -  Definite=Def|Gender=Fem|Number=Sing|PronType=Art\n",
      "pandemia  -  Gender=Fem|Number=Sing\n"
     ]
    }
   ],
   "source": [
    "for token in documento:\n",
    "    print(token.text, \" - \", token.morph)"
   ]
  },
  {
   "cell_type": "code",
   "execution_count": 151,
   "metadata": {},
   "outputs": [
    {
     "name": "stdout",
     "output_type": "stream",
     "text": [
      "As  -  DET\n",
      "ações  -  NOUN\n",
      "do  -  ADP\n",
      "Magazine  -  PROPN\n",
      "Luiza  -  PROPN\n",
      "S.A.  -  PROPN\n",
      ",  -  PUNCT\n",
      "Franca  -  PROPN\n",
      ",  -  PUNCT\n",
      "Brasil  -  PROPN\n",
      ",  -  PUNCT\n",
      "acumularam  -  VERB\n",
      "baixa  -  NOUN\n",
      "de  -  ADP\n",
      "70  -  NUM\n",
      "%  -  SYM\n",
      "ao  -  ADP\n",
      "ano  -  NOUN\n",
      ".  -  PUNCT\n",
      "Assim  -  ADV\n",
      "já  -  ADV\n",
      "devolveram  -  VERB\n",
      "todos  -  DET\n",
      "os  -  DET\n",
      "ganhos  -  NOUN\n",
      "do  -  ADP\n",
      "período  -  NOUN\n",
      "da  -  ADP\n",
      "pandemia  -  NOUN\n"
     ]
    }
   ],
   "source": [
    "for token in documento:\n",
    "    print(token.text, \" - \", token.tag_)"
   ]
  },
  {
   "cell_type": "markdown",
   "metadata": {},
   "source": [
    "- Encontrando as entidades nomeadas - Obtido a partir de um modelo treinado\n",
    "- O modelo também pode ser personalizado - possível adicionar outras formas de entidades nomeadas"
   ]
  },
  {
   "cell_type": "code",
   "execution_count": 152,
   "metadata": {},
   "outputs": [
    {
     "name": "stdout",
     "output_type": "stream",
     "text": [
      "Magazine Luiza S.A.  -  ORG\n",
      "Franca  -  LOC\n",
      "Brasil  -  LOC\n"
     ]
    }
   ],
   "source": [
    "for ent in documento.ents:\n",
    "    print(ent.text, \" - \", ent.label_)"
   ]
  },
  {
   "cell_type": "markdown",
   "metadata": {},
   "source": [
    "- Stop Words: palavras sem valor semântico. Uma boa prática é remover elas.\n",
    "- Precisamos identificar as Stop Words\n",
    "- Spacy permite: consultar, adicionar ou checar se uma token é um stop word\n",
    "- Dessa forma podemos fazer a remoção dessas palavras a partir do Spacy"
   ]
  },
  {
   "cell_type": "code",
   "execution_count": 153,
   "metadata": {},
   "outputs": [
    {
     "name": "stdout",
     "output_type": "stream",
     "text": [
      "Stop Word:  As\n",
      "Stop Word:  do\n",
      "Stop Word:  de\n",
      "Stop Word:  ao\n",
      "Stop Word:  Assim\n",
      "Stop Word:  já\n",
      "Stop Word:  todos\n",
      "Stop Word:  os\n",
      "Stop Word:  do\n",
      "Stop Word:  da\n"
     ]
    }
   ],
   "source": [
    "for token in documento:\n",
    "    if token.is_stop:\n",
    "        print(\"Stop Word: \", token.text)"
   ]
  },
  {
   "cell_type": "markdown",
   "metadata": {},
   "source": [
    "- As stop words são especificas de um determinado idioma"
   ]
  },
  {
   "cell_type": "code",
   "execution_count": 154,
   "metadata": {},
   "outputs": [
    {
     "name": "stdout",
     "output_type": "stream",
     "text": [
      "põem\n",
      "nem\n",
      "tempo\n",
      "fazia\n",
      "des\n",
      "posso\n",
      "porquê\n",
      "entre\n",
      "pontos\n",
      "querem\n",
      "estado\n",
      "sabe\n",
      "cuja\n",
      "vindo\n",
      "sob\n",
      "ver\n",
      "grupo\n",
      "doze\n",
      "estou\n",
      "sétima\n",
      "cujo\n",
      "aquela\n",
      "vão\n",
      "cedo\n",
      "naquela\n",
      "às\n",
      "novos\n",
      "onze\n",
      "as\n",
      "nuns\n",
      "treze\n",
      "porque\n",
      "isto\n",
      "das\n",
      "exemplo\n",
      "esta\n",
      "ir\n",
      "tentei\n",
      "três\n",
      "os\n",
      "geral\n",
      "está\n",
      "quer\n",
      "parece\n",
      "quieta\n",
      "custa\n",
      "também\n",
      "momento\n",
      "fui\n",
      "vinte\n",
      "primeira\n",
      "mesmo\n",
      "eita\n",
      "foi\n",
      "podia\n",
      "são\n",
      "esses\n",
      "pouca\n",
      "mês\n",
      "podem\n",
      "todas\n",
      "quê\n",
      "contudo\n",
      "foste\n",
      "próprio\n",
      "zero\n",
      "faz\n",
      "números\n",
      "área\n",
      "estar\n",
      "pôde\n",
      "próxima\n",
      "nas\n",
      "à\n",
      "segunda\n",
      "adeus\n",
      "dezoito\n",
      "tem\n",
      "dezanove\n",
      "só\n",
      "nossa\n",
      "faço\n",
      "eu\n",
      "pelo\n",
      "terceiro\n",
      "suas\n",
      "ali\n",
      "maior\n",
      "conhecida\n",
      "daquela\n",
      "fora\n",
      "aqui\n",
      "diante\n",
      "ainda\n",
      "comprida\n",
      "em\n",
      "sexta\n",
      "somos\n",
      "pelos\n",
      "quinze\n",
      "nível\n",
      "certamente\n",
      "número\n",
      "apenas\n",
      "oitava\n",
      "tivestes\n",
      "vós\n",
      "boa\n",
      "fazemos\n",
      "perto\n",
      "elas\n",
      "tu\n",
      "sei\n",
      "breve\n",
      "pois\n",
      "pelas\n",
      "ponto\n",
      "porém\n",
      "num\n",
      "tentar\n",
      "onde\n",
      "minhas\n",
      "numa\n",
      "cinco\n",
      "meses\n",
      "qual\n",
      "aquelas\n",
      "disso\n",
      "de\n",
      "nove\n",
      "além\n",
      "embora\n",
      "neste\n",
      "quinta\n",
      "tive\n",
      "contra\n",
      "como\n",
      "ou\n",
      "sem\n",
      "conselho\n",
      "teu\n",
      "fostes\n",
      "seus\n",
      "segundo\n",
      "deverá\n",
      "seu\n",
      "portanto\n",
      "último\n",
      "coisa\n",
      "tuas\n",
      "talvez\n",
      "no\n",
      "sistema\n",
      "sua\n",
      "puderam\n",
      "vai\n",
      "quarto\n",
      "usar\n",
      "para\n",
      "o\n",
      "seis\n",
      "seria\n",
      "esse\n",
      "assim\n",
      "vem\n",
      "uma\n",
      "e\n",
      "nossos\n",
      "dizem\n",
      "quarta\n",
      "vocês\n",
      "saber\n",
      "cá\n",
      "alguns\n",
      "todos\n",
      "têm\n",
      "vossos\n",
      "algo\n",
      "final\n",
      "nosso\n",
      "sim\n",
      "umas\n",
      "certeza\n",
      "eles\n",
      "estás\n",
      "nessa\n",
      "dois\n",
      "tudo\n",
      "ambos\n",
      "grande\n",
      "sexto\n",
      "nos\n",
      "irá\n",
      "sou\n",
      "ela\n",
      "na\n",
      "dezasseis\n",
      "aquilo\n",
      "mil\n",
      "dos\n",
      "poderá\n",
      "vosso\n",
      "sete\n",
      "cada\n",
      "através\n",
      "quieto\n",
      "ser\n",
      "já\n",
      "bom\n",
      "deste\n",
      "lado\n",
      "longe\n",
      "quero\n",
      "oitavo\n",
      "vossas\n",
      "pegar\n",
      "tendes\n",
      "da\n",
      "usa\n",
      "estará\n",
      "daquele\n",
      "menos\n",
      "ao\n",
      "sempre\n",
      "vossa\n",
      "maiorias\n",
      "vinda\n",
      "minha\n",
      "debaixo\n",
      "depois\n",
      "valor\n",
      "atrás\n",
      "estivestes\n",
      "diz\n",
      "eventual\n",
      "inclusive\n",
      "fazeis\n",
      "tentaram\n",
      "antes\n",
      "próximo\n",
      "vêm\n",
      "cima\n",
      "tens\n",
      "quem\n",
      "é\n",
      "posição\n",
      "veja\n",
      "uns\n",
      "ora\n",
      "máximo\n",
      "vez\n",
      "agora\n",
      "favor\n",
      "dentro\n",
      "deve\n",
      "esteve\n",
      "nenhuma\n",
      "mas\n",
      "lhe\n",
      "questão\n",
      "a\n",
      "tal\n",
      "comprido\n",
      "vens\n",
      "tanta\n",
      "partir\n",
      "novas\n",
      "do\n",
      "estas\n",
      "fazem\n",
      "tivemos\n",
      "fez\n",
      "nova\n",
      "pouco\n",
      "vários\n",
      "meio\n",
      "teve\n",
      "tua\n",
      "pode\n",
      "fazes\n",
      "aqueles\n",
      "dez\n",
      "nunca\n",
      "estive\n",
      "mal\n",
      "nesta\n",
      "dezassete\n",
      "aí\n",
      "outras\n",
      "nesse\n",
      "nada\n",
      "sobre\n",
      "oito\n",
      "cento\n",
      "quinto\n",
      "pela\n",
      "baixo\n",
      "este\n",
      "mais\n",
      "todo\n",
      "tenho\n",
      "forma\n",
      "desse\n",
      "até\n",
      "tiveste\n",
      "desta\n",
      "estiveram\n",
      "conhecido\n",
      "após\n",
      "me\n",
      "falta\n",
      "vezes\n",
      "obrigada\n",
      "vais\n",
      "estes\n",
      "dão\n",
      "possivelmente\n",
      "relação\n",
      "temos\n",
      "novo\n",
      "ambas\n",
      "aquele\n",
      "somente\n",
      "essa\n",
      "tente\n",
      "dá\n",
      "vos\n",
      "caminho\n",
      "se\n",
      "direita\n",
      "local\n",
      "grandes\n",
      "fomos\n",
      "corrente\n",
      "estivemos\n",
      "estiveste\n",
      "com\n",
      "ele\n",
      "ligado\n",
      "te\n",
      "fazer\n",
      "aos\n",
      "apontar\n",
      "és\n",
      "catorze\n",
      "quatro\n",
      "dizer\n",
      "lugar\n",
      "essas\n",
      "poder\n",
      "parte\n",
      "porquanto\n",
      "então\n",
      "ter\n",
      "algumas\n",
      "logo\n",
      "nós\n",
      "apoio\n",
      "por\n",
      "sois\n",
      "dar\n",
      "povo\n",
      "tiveram\n",
      "fará\n",
      "teus\n",
      "tarde\n",
      "que\n",
      "ademais\n",
      "tais\n",
      "meus\n",
      "bastante\n",
      "tipo\n",
      "estava\n",
      "acerca\n",
      "muito\n",
      "meu\n",
      "demais\n",
      "muitos\n",
      "ontem\n",
      "devem\n",
      "obrigado\n",
      "fim\n",
      "primeiro\n",
      "maioria\n",
      "naquele\n",
      "lá\n",
      "outros\n",
      "quais\n",
      "tão\n",
      "nossas\n",
      "um\n",
      "foram\n",
      "iniciar\n",
      "estão\n",
      "apoia\n",
      "possível\n",
      "bem\n",
      "dessa\n",
      "desde\n",
      "você\n",
      "menor\n",
      "inicio\n",
      "isso\n",
      "enquanto\n",
      "qualquer\n",
      "terceira\n",
      "sétimo\n",
      "outra\n",
      "quando\n",
      "tanto\n",
      "era\n",
      "não\n",
      "duas\n",
      "for\n",
      "põe\n",
      "quanto\n",
      "toda\n"
     ]
    }
   ],
   "source": [
    "# Lista todas as stop words que existem no modelo do Spacy que estamos utilizando\n",
    "for words in nlp.Defaults.stop_words:\n",
    "    print(words)"
   ]
  },
  {
   "cell_type": "markdown",
   "metadata": {},
   "source": [
    "- Eventualmente podemos querer adicionar uma nova stop word"
   ]
  },
  {
   "cell_type": "code",
   "execution_count": 155,
   "metadata": {},
   "outputs": [],
   "source": [
    "# Adicionando uma palavra qualquer como stop word\n",
    "nlp.Defaults.stop_words.add(\"eita\")\n",
    "nlp.vocab['eita'].is_stop = True"
   ]
  },
  {
   "cell_type": "code",
   "execution_count": 156,
   "metadata": {},
   "outputs": [
    {
     "data": {
      "text/plain": [
       "True"
      ]
     },
     "execution_count": 156,
     "metadata": {},
     "output_type": "execute_result"
    }
   ],
   "source": [
    "# Checando a stop word\n",
    "nlp.vocab['eita'].is_stop"
   ]
  },
  {
   "cell_type": "markdown",
   "metadata": {},
   "source": [
    "- Como remover stop word de um texto"
   ]
  },
  {
   "cell_type": "code",
   "execution_count": 157,
   "metadata": {},
   "outputs": [
    {
     "name": "stdout",
     "output_type": "stream",
     "text": [
      "As ações do Magazine Luiza S.A., Franca, Brasil, acumularam baixa de 70% ao ano. Assim já devolveram todos os ganhos do período da pandemia\n",
      "['As', 'ações', 'Magazine', 'Luiza', 'S.A.', ',', 'Franca', ',', 'Brasil', ',', 'acumularam', 'baixa', '70', '%', 'ano', '.', 'Assim', 'devolveram', 'ganhos', 'período', 'pandemia']\n"
     ]
    }
   ],
   "source": [
    "# Lista com Tokens\n",
    "token_lista = []\n",
    "for token in documento:\n",
    "    token_lista.append(token.text)\n",
    "\n",
    "# Lista com Stop Words\n",
    "stop_lista = []\n",
    "for words in nlp.Defaults.stop_words:\n",
    "    stop_lista.append(words)\n",
    "\n",
    "# Objeto que armazena os tokens, excluindo as stopwords\n",
    "semstop = [word for word in token_lista if not word in stop_lista]\n",
    "\n",
    "print(documento.text)\n",
    "print(semstop)"
   ]
  },
  {
   "cell_type": "markdown",
   "metadata": {},
   "source": [
    "- Cada palavra no Spacy é armazenada por um HASH, então é possível identifica-las. Ou seja, cada palavra é representada por um hash\n",
    "- O hash é utilizado internamente\n",
    "- Vamos entender a representação da palavra em termos de HASH"
   ]
  },
  {
   "cell_type": "code",
   "execution_count": 158,
   "metadata": {},
   "outputs": [
    {
     "name": "stdout",
     "output_type": "stream",
     "text": [
      "Hash:  6013848609874238634\n",
      "Hash:  6013848609874238634\n",
      "String:  dados\n"
     ]
    }
   ],
   "source": [
    "# Não tem muita utilidade prática, mas para entendimento do SPACY\n",
    "\n",
    "# Obtendo o Hash da palavra dados\n",
    "print(\"Hash: \", nlp.vocab.strings['dados'])\n",
    "print(\"Hash: \", documento.vocab.strings[\"dados\"])\n",
    "\n",
    "# Retornando a String com base no HASH\n",
    "print(\"String: \", nlp.vocab.strings[6013848609874238634])"
   ]
  },
  {
   "cell_type": "code",
   "execution_count": 159,
   "metadata": {},
   "outputs": [
    {
     "name": "stdout",
     "output_type": "stream",
     "text": [
      "dados  -  6013848609874238634  -  True  -  True\n"
     ]
    }
   ],
   "source": [
    "# Representaçlão do Lexema\n",
    "lex = nlp.vocab[\"dados\"]\n",
    "print(lex.text, \" - \", lex.orth, \" - \", lex.is_alpha, \" - \", lex.is_lower)"
   ]
  },
  {
   "cell_type": "code",
   "execution_count": 160,
   "metadata": {},
   "outputs": [
    {
     "name": "stdout",
     "output_type": "stream",
     "text": [
      "(300,)\n",
      "[-1.8078e+00 -2.8421e+00 -5.5345e-01 -4.0565e+00 -2.3565e+00  4.7295e+00\n",
      " -3.3508e+00 -1.2036e+00 -5.3749e+00 -7.5768e-01 -2.0015e+00  5.3618e+00\n",
      "  2.2789e-01  1.2136e+00 -1.4418e+00 -3.0621e+00  2.2060e+00  1.1943e+00\n",
      " -1.8689e+00 -5.9128e+00 -5.1929e-01  2.1897e+00 -2.4651e+00  1.7600e+00\n",
      " -5.6308e+00  1.0053e+00  7.3080e-01  2.0417e-01 -6.0370e+00  1.7474e+00\n",
      "  2.0375e+00  2.7541e+00 -1.0423e+00  1.7632e+00 -1.4484e+00 -2.4344e+00\n",
      " -8.6094e-01  1.7867e+00 -4.9920e+00 -3.1162e+00 -5.3973e-01  2.4241e+00\n",
      "  4.4410e-01 -4.7503e+00  2.1383e+00  3.8537e-01 -2.2418e+00  5.8104e+00\n",
      " -1.1731e+00  2.4686e-02 -1.8413e+00 -5.9321e+00 -7.0872e-03 -2.3093e+00\n",
      "  5.5101e+00 -4.1795e-01  2.9754e+00  3.6709e-01 -8.0867e-01 -1.3751e+00\n",
      "  4.8132e+00 -2.2835e+00 -2.0920e-01  1.2578e+00  4.3466e+00  1.3846e+00\n",
      " -1.5847e+00  3.3322e+00 -4.3669e+00  1.8883e+00 -1.2312e+00  3.7902e-01\n",
      "  8.6331e-01 -4.0607e+00 -1.3444e+00  4.5210e+00  2.2995e-01 -5.9245e+00\n",
      " -2.0598e-01 -3.1810e+00 -3.8640e+00  7.2114e+00  3.1034e+00 -4.2856e+00\n",
      "  5.4147e+00 -7.2224e+00  4.3610e+00 -2.6696e+00  1.9245e+00 -2.6187e+00\n",
      " -5.1742e+00  1.0513e-01  1.9628e+00  1.0356e+00  6.8692e+00 -7.3888e-01\n",
      "  3.8783e+00  4.1958e+00 -8.8872e+00 -1.8452e+00  5.2786e+00  4.2920e+00\n",
      " -4.2204e-01  1.0009e+00  4.2165e-01  1.1927e+00 -8.4580e-01 -2.6577e+00\n",
      "  1.5024e+00  4.4229e-01 -2.5251e+00 -7.1781e-01  7.0878e-01  1.7207e+00\n",
      "  3.8369e+00 -1.5924e+00  2.0870e+00  4.3324e-01 -1.0600e+00  2.7058e+00\n",
      "  1.3282e+00 -7.1241e+00 -1.3663e+00 -3.0763e+00  2.7714e+00  1.3094e+00\n",
      "  1.6072e+00  3.6821e+00  5.3843e+00 -3.5457e-02 -2.9616e+00  1.5253e+00\n",
      "  2.0812e-01  6.0771e-01 -5.5709e-01  7.5687e+00 -9.1431e-01 -3.0477e+00\n",
      "  1.2046e+00  5.3871e-01  5.7112e-01  2.2039e+00 -5.1948e-02 -2.6353e+00\n",
      " -2.8517e+00  1.8675e-01  2.1013e+00  7.5272e-01 -8.7856e+00 -1.4493e+00\n",
      " -7.9085e-01 -1.6936e+00  1.4793e-02 -9.9357e+00  3.7818e+00 -1.7839e+00\n",
      "  1.5425e+00 -3.0899e-02 -5.1442e+00  4.2366e-01  3.2065e+00  3.9226e+00\n",
      " -1.4392e-02  1.5862e+00  7.0632e+00  7.5689e+00 -3.4420e+00 -6.1376e+00\n",
      "  5.0851e-01 -6.3689e-01 -1.8791e-01  1.9850e+00  3.0888e+00 -3.0506e+00\n",
      "  1.1851e-01 -1.2290e+00  7.6061e+00  1.8492e-01 -2.7509e+00 -1.3448e+00\n",
      "  1.9857e+00 -2.4650e+00 -2.0810e+00  5.6084e+00 -7.3379e-01  1.1205e+00\n",
      "  1.3258e-02 -7.0243e-01  1.0118e+00  3.8903e+00 -1.2631e+00 -2.7544e+00\n",
      "  9.3134e-01  2.7516e+00 -1.6767e+00  4.5501e+00 -4.9452e-01  1.0644e+00\n",
      " -1.2653e+00  3.9671e-01 -6.4705e+00 -7.7726e-01 -3.9283e+00  7.9536e+00\n",
      "  2.0967e+00  1.2104e+00  3.4474e+00 -2.2200e+00 -4.9974e+00  3.1827e-01\n",
      " -1.0450e+00 -2.1353e+00  1.0529e+00 -1.6568e+00 -3.0012e+00  4.2834e+00\n",
      "  6.9626e-01  4.5401e+00 -1.7153e-01 -5.9982e-01  3.6147e+00 -3.4545e+00\n",
      "  3.6811e-01 -4.1399e+00 -1.8144e+00  2.9088e+00  8.9164e-01 -2.4783e+00\n",
      " -3.6413e+00 -3.4140e-01 -8.0959e-01 -4.7451e+00  4.2487e+00  6.6012e+00\n",
      " -5.1022e+00  1.5260e+00  3.5160e+00 -1.4569e+00  1.4442e+00  6.8183e+00\n",
      " -5.0775e+00  1.0688e+00  4.8081e+00  3.6586e+00 -3.0766e+00 -8.5266e-01\n",
      " -3.3401e+00 -5.2864e+00 -9.1773e-01 -1.8197e+00  2.0192e+00 -6.7857e+00\n",
      " -3.6542e+00 -3.4654e+00  3.3276e+00  9.0340e-02 -3.0743e+00  3.3329e+00\n",
      " -2.6458e+00  2.6557e-02 -4.7538e-01  2.7974e+00  5.3304e+00  2.9937e+00\n",
      "  3.8899e+00 -3.3433e+00 -3.4940e+00  2.1821e+00  8.1387e+00  3.5272e-01\n",
      "  4.8159e+00 -7.8327e-01 -1.2468e+00  5.9163e+00 -6.0636e-02 -4.3255e-01\n",
      " -1.2690e+00 -3.2938e+00  3.2941e-02 -9.3676e-01 -7.1630e-01  1.4011e+00\n",
      "  1.8334e+00 -1.4261e+00 -1.9903e+00 -1.4721e+00  2.1466e+00 -2.0949e+00\n",
      " -7.6855e-01 -2.8615e+00 -2.0466e+00  7.1870e-01 -1.1195e+00 -3.1117e+00\n",
      "  1.5789e-01 -4.0320e+00 -9.2665e-01 -6.2468e-01 -2.7397e+00  6.0866e-01]\n"
     ]
    }
   ],
   "source": [
    "# 300 pesos que representam a relação da palavra dados com outras 300 palavras. As aplicações de NLP utilizam esses pesos obtidos a partir de um modelo treinado\n",
    "print(nlp(\"dados\").vector.shape)\n",
    "print(nlp(\"dados\").vector)"
   ]
  },
  {
   "cell_type": "code",
   "execution_count": 161,
   "metadata": {},
   "outputs": [
    {
     "name": "stdout",
     "output_type": "stream",
     "text": [
      "[ 0.5255733  -1.0520301  -1.0489888   0.22808893 -2.7599888   0.91837215\n",
      " -1.6993556  -0.44524103 -2.209261   -1.2901455   0.9939946  -1.3996754\n",
      "  0.7378708  -1.6957022  -1.382649   -1.1241877   2.503239    1.3766589\n",
      " -0.63682556  2.7080245  -0.6679023   0.7990059  -1.3761922   1.6491444\n",
      " -0.6950322   0.69378555 -0.19840002  1.6926199  -0.3071023   0.71506053\n",
      "  0.03211441  0.27212894 -1.9055911  -1.5586021  -0.9775556   0.7999823\n",
      " -0.9553054   0.5265729  -0.87427455 -1.2073755  -2.117481    1.2241988\n",
      "  1.5149522  -0.79308677 -1.1521667   0.13741441 -1.7882053   0.50415283\n",
      "  1.3089666   0.06542712 -0.6260744  -1.5624356  -0.707184   -1.2425367\n",
      " -0.04237115 -0.5879791   1.7004043  -0.24798778  0.11633212 -0.55506223\n",
      "  2.0148706   0.01965364  0.92778563  2.3571968  -0.49526003  1.0151839\n",
      "  0.57112557  1.3510779  -0.3038622  -0.24523441 -0.42284998 -0.69732666\n",
      "  0.71998227  0.2875956   0.10309222 -0.6866155   2.128672    0.9791889\n",
      " -1.4044011  -0.4600078   0.10599887  0.84635675  1.2420444   0.40497887\n",
      "  0.24567226 -2.4633954   0.30174115 -1.2952554   0.5795323  -1.899822\n",
      " -0.74619776  2.998889    2.0798278  -0.9101444   0.27261782  0.3154811\n",
      "  3.1923532   1.315211   -3.1751957   0.03176559  1.1431444   1.6177245\n",
      " -1.0905743   0.6142689   1.0441045  -1.0070856  -0.6415578  -0.75415665\n",
      "  0.04653723 -0.7180089  -0.09737895  0.02209669 -0.43218002 -0.37869656\n",
      " -1.4787056  -0.8019056   2.2888644  -0.58004665 -0.35054     0.8161524\n",
      "  0.56656885 -3.1986172  -0.13080996 -0.87027764  0.19671117 -0.18788989\n",
      "  2.1433      0.5740978   0.79283893  1.1020746   0.06806201  0.14578162\n",
      " -0.48713335 -0.9247377   0.84602445  1.326062   -0.13929449 -2.2536204\n",
      "  0.8378011   1.8202833  -2.1101756   0.01467665 -0.1241987  -0.28894553\n",
      " -2.689321    0.35465997  1.3067889   0.78942555 -3.1275606  -0.70258003\n",
      "  1.1796956  -0.09419552 -0.39751524 -2.17274     0.00593225  0.11152443\n",
      " -0.40126875 -0.7324776  -1.110687   -1.6154889   1.9177108   0.59479684\n",
      " -0.9205568   1.6399556   2.1313922   0.8705971  -0.4869177  -2.5268655\n",
      " -0.20582779 -1.351448    1.0684322   1.0798033   0.7770678  -0.88195336\n",
      " -0.94633335 -1.6027511   2.097808   -0.44511667 -1.657932    1.3012689\n",
      "  1.4642056   0.07117888 -0.45494658  1.4971966   1.3140267  -0.48212782\n",
      "  1.0694442  -2.269592    1.3391188   1.5931556  -1.7781789  -1.465089\n",
      "  0.23485115 -2.34892     0.940096    0.5333122  -0.74473196 -1.2676699\n",
      " -0.40783006 -0.7384778  -2.09579     2.0488043  -1.182571    0.37707764\n",
      "  1.1301712   0.28928337  1.3739567  -1.0200423   1.2103223   0.04722336\n",
      "  1.3624822  -1.2681168   1.4688356   0.8132446  -1.719049    1.8276443\n",
      "  1.0804734  -0.31434     0.88836336 -0.67704093 -1.0336466  -0.9087268\n",
      "  0.09643783 -2.5777566  -0.08628993 -0.8835056  -0.5007     -2.010551\n",
      "  0.9359345  -1.839522   -0.45124334 -1.67075     0.1972278  -0.69528896\n",
      " -0.8587457  -0.25463215  0.23403136 -1.7613523   0.39325333  2.0033166\n",
      "  0.16394782 -0.5912411   0.4513964   0.38095444  0.9961722  -0.5356072\n",
      " -0.24399893  1.2084801   1.047721   -0.3533555  -0.68883884 -0.05879111\n",
      " -1.0547067  -0.9298345   0.1543278   0.22240782 -0.8161553   2.490319\n",
      " -1.5402923   0.59167856 -1.8444476   0.68242     2.5562222   0.99307674\n",
      "  0.02924996 -0.70853776 -1.0495977   0.13625993  2.1210868   1.4868933\n",
      "  3.163472   -0.43712902 -0.514627    2.9385633  -2.2680051   0.10609888\n",
      "  2.2179537   0.63511777  0.40360793 -1.1280782  -1.7189742  -0.46922117\n",
      "  2.9208887  -0.7004363  -0.36562064  1.1512333  -1.4175044  -0.44106555\n",
      " -0.48883343 -0.5042111   0.28768444  3.4773679  -1.2891389  -0.65457785\n",
      "  0.3968733  -1.9304742   2.1593056  -0.50640225 -1.4050981   1.26994   ]\n"
     ]
    }
   ],
   "source": [
    "# Mostra a relação dessa sentença com outras palavras. Mostra a métria das palavras que formam a sentença\n",
    "print(nlp(\"dados são uma nova forma de ver o mundo\").vector)"
   ]
  },
  {
   "cell_type": "markdown",
   "metadata": {},
   "source": [
    "- Esses vetores trazem os pesos que demonstram as relações entre as palavras"
   ]
  },
  {
   "cell_type": "markdown",
   "metadata": {},
   "source": [
    "- Similaridade do Spacy: retornam uma métrica de similaridade dizendo o quão similar as sentenças são\n",
    "- Matcher: busca e retorna um padrão se encontrar. Por exemplo, buscar um CPF, se encotnrar um padrão, ele retorna"
   ]
  },
  {
   "cell_type": "markdown",
   "metadata": {},
   "source": [
    "- A similaridade precisa do modelo Large Idioma\n",
    "- A métrica é o coseno, valor entre ZERO e 1. Quanto mais próxima de 1 mais semelhante é\n",
    "- Utiliza representações vetoriais das palavras (word embeddings) (word2vec)\n",
    "- Pode ser aplicado entre Docs, Spans e Tokens"
   ]
  },
  {
   "cell_type": "markdown",
   "metadata": {},
   "source": [
    "- É possível adaptar o Spacy para utilizar outras funções de similaridade"
   ]
  },
  {
   "cell_type": "markdown",
   "metadata": {},
   "source": [
    "- As stop word podem puxar a métrica de similaridade para baixo\n",
    "- Modificando a ordem das palavras na sentença, a ordem de similaridade se mantém a mesma"
   ]
  },
  {
   "cell_type": "code",
   "execution_count": 162,
   "metadata": {},
   "outputs": [
    {
     "name": "stdout",
     "output_type": "stream",
     "text": [
      "0.9567075977283297\n"
     ]
    }
   ],
   "source": [
    "# Vamos verificar a similaridade\n",
    "documento3 = nlp(\"Ele viaja regularmente de carro\")\n",
    "documento4 = nlp(\"Ele viaja regularmente de avião\")\n",
    "\n",
    "print(documento3.similarity(documento4))"
   ]
  },
  {
   "cell_type": "markdown",
   "metadata": {},
   "source": [
    "- O valor encontrado foi alto: 0.956. próximo de 1, considerado um valor alto de similaridade"
   ]
  },
  {
   "cell_type": "markdown",
   "metadata": {},
   "source": [
    "- Ao modificar a ordem, o coeficiente se mantém"
   ]
  },
  {
   "cell_type": "code",
   "execution_count": 163,
   "metadata": {},
   "outputs": [
    {
     "name": "stdout",
     "output_type": "stream",
     "text": [
      "0.9567075918833333\n"
     ]
    }
   ],
   "source": [
    "# Vamos verificar a similaridade\n",
    "documento3 = nlp(\"Ele viaja regularmente de carro\")\n",
    "documento4 = nlp(\"Ele regularmente de avião viaja\")\n",
    "\n",
    "print(documento3.similarity(documento4))"
   ]
  },
  {
   "cell_type": "markdown",
   "metadata": {},
   "source": [
    "- Ao trocar Ele por Ela, existe uma redução de similaridade"
   ]
  },
  {
   "cell_type": "code",
   "execution_count": 164,
   "metadata": {},
   "outputs": [
    {
     "name": "stdout",
     "output_type": "stream",
     "text": [
      "0.8941741168014388\n"
     ]
    }
   ],
   "source": [
    "# Vamos verificar a similaridade\n",
    "documento3 = nlp(\"Ele viaja regularmente de carro\")\n",
    "documento4 = nlp(\"Ela regularmente de avião viaja\")\n",
    "\n",
    "print(documento3.similarity(documento4))"
   ]
  },
  {
   "cell_type": "markdown",
   "metadata": {},
   "source": [
    "- Existem bibliotecas mais robustas para busca de similaridade de documentos"
   ]
  },
  {
   "cell_type": "markdown",
   "metadata": {},
   "source": [
    "- Podemos comparar diretamente dois tokens"
   ]
  },
  {
   "cell_type": "code",
   "execution_count": 165,
   "metadata": {},
   "outputs": [
    {
     "name": "stdout",
     "output_type": "stream",
     "text": [
      "comprimento\n",
      "cumprimento\n",
      "0.5804340243339539\n"
     ]
    }
   ],
   "source": [
    "documento5 = nlp(\"Devemos dizer comprimento ou cumprimento\")\n",
    "tokenA = documento5[2]\n",
    "print(tokenA)\n",
    "tokenB = documento5[4]\n",
    "print(tokenB)\n",
    "\n",
    "print(tokenA.similarity(tokenB))"
   ]
  },
  {
   "cell_type": "markdown",
   "metadata": {},
   "source": [
    "- Trouxe uma métrica de 0.58"
   ]
  },
  {
   "cell_type": "markdown",
   "metadata": {},
   "source": [
    "- Outra forma de buscar similaridade é utilizar o Span"
   ]
  },
  {
   "cell_type": "code",
   "execution_count": 166,
   "metadata": {},
   "outputs": [
    {
     "name": "stdout",
     "output_type": "stream",
     "text": [
      "Ele pede descrição\n",
      "Ele pede discrição\n",
      "0.9630053639411926\n"
     ]
    }
   ],
   "source": [
    "documento6 = nlp(\"Ele pede descrição. Ele pede discrição\")\n",
    "\n",
    "partA = documento6[0:3]\n",
    "print(partA)\n",
    "partB = documento6[4:7]\n",
    "print(partB)\n",
    "\n",
    "print(partA.similarity(partB))"
   ]
  },
  {
   "cell_type": "markdown",
   "metadata": {},
   "source": [
    "- Matcher: busca padrões dentro de um documento\n",
    "- Possui uma forma especial\n"
   ]
  },
  {
   "cell_type": "markdown",
   "metadata": {},
   "source": [
    "- Suponha que vc quer encontrar um padrão de numero de telefone dentro do Spacy. Quando ele encontrar, ele retorna"
   ]
  },
  {
   "cell_type": "markdown",
   "metadata": {},
   "source": [
    "- Atributo/padrão:\n",
    "    1. ORTH: busca o texto literal\n",
    "    2. Shape: busca formato; por exemplo dois digitos\n",
    "    3. OP: Qualificador, qualquer texto.\n",
    "    4. is_digit: pesquisa um digito, por exemplo, True\n",
    "    5. mactcher.add: da um nome e o padrão adicionado para ele"
   ]
  },
  {
   "cell_type": "markdown",
   "metadata": {},
   "source": [
    "- Existe uma lista de atributos para  ser utilizado"
   ]
  },
  {
   "cell_type": "code",
   "execution_count": 167,
   "metadata": {},
   "outputs": [
    {
     "name": "stdout",
     "output_type": "stream",
     "text": [
      "(51) - 9964656570\n",
      "(11) 12344988\n"
     ]
    }
   ],
   "source": [
    "from typing import Match\n",
    "from spacy.matcher import Matcher\n",
    "\n",
    "documento5 = nlp(\"Você pode ligar para (51) - 9964656570 ou (11) 12344988 \")\n",
    "\n",
    "matcher = Matcher(nlp.vocab) # Inicializa o matcher\n",
    "\n",
    "# Definir o padrão que será buscado\n",
    "#1. Orth (; irá buscar logo um parêntese\n",
    "#2. Shape dd; irá procurar 2 digitos\n",
    "#3. Orth ); irá pesquisa um fechamento de parênteses\n",
    "#4. Orth - ou ? (qualquer coisa); não necessariamente o -\n",
    "#5. Is_Digit True: tem que ser um número\n",
    "padrao = [{\"ORTH\": \"(\"} ,{\"SHAPE\": \"dd\"},{\"ORTH\": \")\"}, {\"ORTH\": \"-\", \"OP\":\"?\"} , {\"IS_DIGIT\": True}]\n",
    "\n",
    "# Adicionar o padrão: nome e padrão\n",
    "matcher.add(\"telefone\", [padrao])\n",
    "\n",
    "# Matcher para o documento5 - aonde vai buscar o padrão. Padrão será armazenado aqui\n",
    "matches = matcher(documento5)\n",
    "\n",
    "# Percorrer esse padrão - Sempre tem incio e FIM\n",
    "for id, inicio, fim in matches:\n",
    "  #print(id)\n",
    "  #print(inicio)\n",
    "  #print(fim)\n",
    "  print(documento5[inicio:fim])"
   ]
  },
  {
   "cell_type": "markdown",
   "metadata": {},
   "source": [
    "- Nesse segundo exemplo temos microorganismo escrito e três formas"
   ]
  },
  {
   "cell_type": "code",
   "execution_count": 168,
   "metadata": {},
   "outputs": [
    {
     "name": "stdout",
     "output_type": "stream",
     "text": [
      "micro organismos\n",
      "MICROORGANISMOS\n",
      "micro-organismos\n"
     ]
    }
   ],
   "source": [
    "documento6 = nlp(\"Estamos infectados com micro organismos. MICROORGANISMOS são perigosos. Não enxergamos micro-organismos\")\n",
    "matcher = Matcher(nlp.vocab)\n",
    "\n",
    "# Criar três padrões e adicionar no matcher\n",
    "# Sintaxe LOWER, retorna maiusculo ou minusculo, em qualquer situação\n",
    "\n",
    "padrao1 = [{\"LOWER\":\"micro-organismos\"}]\n",
    "padrao2 = [{\"LOWER\":\"microorganismos\"}]\n",
    "padrao3 = [{\"LOWER\":\"micro\"}, {\"LOWER\":\"organismos\"}]\n",
    "\n",
    "matcher.add(\"padrao\", [padrao1,padrao2,padrao3])\n",
    "\n",
    "matches = matcher(documento6)\n",
    "for id, inicio, fim in matches:\n",
    "  print(documento6[inicio:fim])\n"
   ]
  },
  {
   "cell_type": "markdown",
   "metadata": {},
   "source": [
    "- Spacy para visualização\n",
    "- Visualização de dependência"
   ]
  },
  {
   "cell_type": "code",
   "execution_count": 169,
   "metadata": {},
   "outputs": [
    {
     "data": {
      "text/html": [
       "<span class=\"tex2jax_ignore\"><div class=\"entities\" style=\"line-height: 2.5; direction: ltr\">As ações do \n",
       "<mark class=\"entity\" style=\"background: #7aecec; padding: 0.45em 0.6em; margin: 0 0.25em; line-height: 1; border-radius: 0.35em;\">\n",
       "    Magazine Luiza S.A.\n",
       "    <span style=\"font-size: 0.8em; font-weight: bold; line-height: 1; border-radius: 0.35em; vertical-align: middle; margin-left: 0.5rem\">ORG</span>\n",
       "</mark>\n",
       ", \n",
       "<mark class=\"entity\" style=\"background: #ff9561; padding: 0.45em 0.6em; margin: 0 0.25em; line-height: 1; border-radius: 0.35em;\">\n",
       "    Franca\n",
       "    <span style=\"font-size: 0.8em; font-weight: bold; line-height: 1; border-radius: 0.35em; vertical-align: middle; margin-left: 0.5rem\">LOC</span>\n",
       "</mark>\n",
       ", \n",
       "<mark class=\"entity\" style=\"background: #ff9561; padding: 0.45em 0.6em; margin: 0 0.25em; line-height: 1; border-radius: 0.35em;\">\n",
       "    Brasil\n",
       "    <span style=\"font-size: 0.8em; font-weight: bold; line-height: 1; border-radius: 0.35em; vertical-align: middle; margin-left: 0.5rem\">LOC</span>\n",
       "</mark>\n",
       ", acumularam baixa de 70% ao ano. Assim já devolveram todos os ganhos do período da pandemia</div></span>"
      ],
      "text/plain": [
       "<IPython.core.display.HTML object>"
      ]
     },
     "metadata": {},
     "output_type": "display_data"
    }
   ],
   "source": [
    "from spacy import displacy\n",
    "\n",
    "# Reconhecimento de entidades nomeadas\n",
    "displacy.render(documento,style=\"ent\", jupyter=True)"
   ]
  },
  {
   "cell_type": "code",
   "execution_count": 170,
   "metadata": {},
   "outputs": [
    {
     "data": {
      "text/html": [
       "<span class=\"tex2jax_ignore\"><svg xmlns=\"http://www.w3.org/2000/svg\" xmlns:xlink=\"http://www.w3.org/1999/xlink\" xml:lang=\"pt\" id=\"be850ba3b764437a8ea779efd9e635d2-0\" class=\"displacy\" width=\"4250\" height=\"574.5\" direction=\"ltr\" style=\"max-width: none; height: 574.5px; color: #000000; background: #ffffff; font-family: Arial; direction: ltr\">\n",
       "<text class=\"displacy-token\" fill=\"currentColor\" text-anchor=\"middle\" y=\"484.5\">\n",
       "    <tspan class=\"displacy-word\" fill=\"currentColor\" x=\"50\">As</tspan>\n",
       "    <tspan class=\"displacy-tag\" dy=\"2em\" fill=\"currentColor\" x=\"50\">DET</tspan>\n",
       "</text>\n",
       "\n",
       "<text class=\"displacy-token\" fill=\"currentColor\" text-anchor=\"middle\" y=\"484.5\">\n",
       "    <tspan class=\"displacy-word\" fill=\"currentColor\" x=\"225\">ações</tspan>\n",
       "    <tspan class=\"displacy-tag\" dy=\"2em\" fill=\"currentColor\" x=\"225\">NOUN</tspan>\n",
       "</text>\n",
       "\n",
       "<text class=\"displacy-token\" fill=\"currentColor\" text-anchor=\"middle\" y=\"484.5\">\n",
       "    <tspan class=\"displacy-word\" fill=\"currentColor\" x=\"400\">do</tspan>\n",
       "    <tspan class=\"displacy-tag\" dy=\"2em\" fill=\"currentColor\" x=\"400\">ADP</tspan>\n",
       "</text>\n",
       "\n",
       "<text class=\"displacy-token\" fill=\"currentColor\" text-anchor=\"middle\" y=\"484.5\">\n",
       "    <tspan class=\"displacy-word\" fill=\"currentColor\" x=\"575\">Magazine</tspan>\n",
       "    <tspan class=\"displacy-tag\" dy=\"2em\" fill=\"currentColor\" x=\"575\">PROPN</tspan>\n",
       "</text>\n",
       "\n",
       "<text class=\"displacy-token\" fill=\"currentColor\" text-anchor=\"middle\" y=\"484.5\">\n",
       "    <tspan class=\"displacy-word\" fill=\"currentColor\" x=\"750\">Luiza</tspan>\n",
       "    <tspan class=\"displacy-tag\" dy=\"2em\" fill=\"currentColor\" x=\"750\">PROPN</tspan>\n",
       "</text>\n",
       "\n",
       "<text class=\"displacy-token\" fill=\"currentColor\" text-anchor=\"middle\" y=\"484.5\">\n",
       "    <tspan class=\"displacy-word\" fill=\"currentColor\" x=\"925\">S.A.,</tspan>\n",
       "    <tspan class=\"displacy-tag\" dy=\"2em\" fill=\"currentColor\" x=\"925\">PROPN</tspan>\n",
       "</text>\n",
       "\n",
       "<text class=\"displacy-token\" fill=\"currentColor\" text-anchor=\"middle\" y=\"484.5\">\n",
       "    <tspan class=\"displacy-word\" fill=\"currentColor\" x=\"1100\">Franca,</tspan>\n",
       "    <tspan class=\"displacy-tag\" dy=\"2em\" fill=\"currentColor\" x=\"1100\">PROPN</tspan>\n",
       "</text>\n",
       "\n",
       "<text class=\"displacy-token\" fill=\"currentColor\" text-anchor=\"middle\" y=\"484.5\">\n",
       "    <tspan class=\"displacy-word\" fill=\"currentColor\" x=\"1275\">Brasil,</tspan>\n",
       "    <tspan class=\"displacy-tag\" dy=\"2em\" fill=\"currentColor\" x=\"1275\">PROPN</tspan>\n",
       "</text>\n",
       "\n",
       "<text class=\"displacy-token\" fill=\"currentColor\" text-anchor=\"middle\" y=\"484.5\">\n",
       "    <tspan class=\"displacy-word\" fill=\"currentColor\" x=\"1450\">acumularam</tspan>\n",
       "    <tspan class=\"displacy-tag\" dy=\"2em\" fill=\"currentColor\" x=\"1450\">VERB</tspan>\n",
       "</text>\n",
       "\n",
       "<text class=\"displacy-token\" fill=\"currentColor\" text-anchor=\"middle\" y=\"484.5\">\n",
       "    <tspan class=\"displacy-word\" fill=\"currentColor\" x=\"1625\">baixa</tspan>\n",
       "    <tspan class=\"displacy-tag\" dy=\"2em\" fill=\"currentColor\" x=\"1625\">NOUN</tspan>\n",
       "</text>\n",
       "\n",
       "<text class=\"displacy-token\" fill=\"currentColor\" text-anchor=\"middle\" y=\"484.5\">\n",
       "    <tspan class=\"displacy-word\" fill=\"currentColor\" x=\"1800\">de</tspan>\n",
       "    <tspan class=\"displacy-tag\" dy=\"2em\" fill=\"currentColor\" x=\"1800\">ADP</tspan>\n",
       "</text>\n",
       "\n",
       "<text class=\"displacy-token\" fill=\"currentColor\" text-anchor=\"middle\" y=\"484.5\">\n",
       "    <tspan class=\"displacy-word\" fill=\"currentColor\" x=\"1975\">70%</tspan>\n",
       "    <tspan class=\"displacy-tag\" dy=\"2em\" fill=\"currentColor\" x=\"1975\">SYM</tspan>\n",
       "</text>\n",
       "\n",
       "<text class=\"displacy-token\" fill=\"currentColor\" text-anchor=\"middle\" y=\"484.5\">\n",
       "    <tspan class=\"displacy-word\" fill=\"currentColor\" x=\"2150\">ao</tspan>\n",
       "    <tspan class=\"displacy-tag\" dy=\"2em\" fill=\"currentColor\" x=\"2150\">ADP</tspan>\n",
       "</text>\n",
       "\n",
       "<text class=\"displacy-token\" fill=\"currentColor\" text-anchor=\"middle\" y=\"484.5\">\n",
       "    <tspan class=\"displacy-word\" fill=\"currentColor\" x=\"2325\">ano.</tspan>\n",
       "    <tspan class=\"displacy-tag\" dy=\"2em\" fill=\"currentColor\" x=\"2325\">NOUN</tspan>\n",
       "</text>\n",
       "\n",
       "<text class=\"displacy-token\" fill=\"currentColor\" text-anchor=\"middle\" y=\"484.5\">\n",
       "    <tspan class=\"displacy-word\" fill=\"currentColor\" x=\"2500\">Assim</tspan>\n",
       "    <tspan class=\"displacy-tag\" dy=\"2em\" fill=\"currentColor\" x=\"2500\">ADV</tspan>\n",
       "</text>\n",
       "\n",
       "<text class=\"displacy-token\" fill=\"currentColor\" text-anchor=\"middle\" y=\"484.5\">\n",
       "    <tspan class=\"displacy-word\" fill=\"currentColor\" x=\"2675\">já</tspan>\n",
       "    <tspan class=\"displacy-tag\" dy=\"2em\" fill=\"currentColor\" x=\"2675\">ADV</tspan>\n",
       "</text>\n",
       "\n",
       "<text class=\"displacy-token\" fill=\"currentColor\" text-anchor=\"middle\" y=\"484.5\">\n",
       "    <tspan class=\"displacy-word\" fill=\"currentColor\" x=\"2850\">devolveram</tspan>\n",
       "    <tspan class=\"displacy-tag\" dy=\"2em\" fill=\"currentColor\" x=\"2850\">VERB</tspan>\n",
       "</text>\n",
       "\n",
       "<text class=\"displacy-token\" fill=\"currentColor\" text-anchor=\"middle\" y=\"484.5\">\n",
       "    <tspan class=\"displacy-word\" fill=\"currentColor\" x=\"3025\">todos</tspan>\n",
       "    <tspan class=\"displacy-tag\" dy=\"2em\" fill=\"currentColor\" x=\"3025\">DET</tspan>\n",
       "</text>\n",
       "\n",
       "<text class=\"displacy-token\" fill=\"currentColor\" text-anchor=\"middle\" y=\"484.5\">\n",
       "    <tspan class=\"displacy-word\" fill=\"currentColor\" x=\"3200\">os</tspan>\n",
       "    <tspan class=\"displacy-tag\" dy=\"2em\" fill=\"currentColor\" x=\"3200\">DET</tspan>\n",
       "</text>\n",
       "\n",
       "<text class=\"displacy-token\" fill=\"currentColor\" text-anchor=\"middle\" y=\"484.5\">\n",
       "    <tspan class=\"displacy-word\" fill=\"currentColor\" x=\"3375\">ganhos</tspan>\n",
       "    <tspan class=\"displacy-tag\" dy=\"2em\" fill=\"currentColor\" x=\"3375\">NOUN</tspan>\n",
       "</text>\n",
       "\n",
       "<text class=\"displacy-token\" fill=\"currentColor\" text-anchor=\"middle\" y=\"484.5\">\n",
       "    <tspan class=\"displacy-word\" fill=\"currentColor\" x=\"3550\">do</tspan>\n",
       "    <tspan class=\"displacy-tag\" dy=\"2em\" fill=\"currentColor\" x=\"3550\">ADP</tspan>\n",
       "</text>\n",
       "\n",
       "<text class=\"displacy-token\" fill=\"currentColor\" text-anchor=\"middle\" y=\"484.5\">\n",
       "    <tspan class=\"displacy-word\" fill=\"currentColor\" x=\"3725\">período</tspan>\n",
       "    <tspan class=\"displacy-tag\" dy=\"2em\" fill=\"currentColor\" x=\"3725\">NOUN</tspan>\n",
       "</text>\n",
       "\n",
       "<text class=\"displacy-token\" fill=\"currentColor\" text-anchor=\"middle\" y=\"484.5\">\n",
       "    <tspan class=\"displacy-word\" fill=\"currentColor\" x=\"3900\">da</tspan>\n",
       "    <tspan class=\"displacy-tag\" dy=\"2em\" fill=\"currentColor\" x=\"3900\">ADP</tspan>\n",
       "</text>\n",
       "\n",
       "<text class=\"displacy-token\" fill=\"currentColor\" text-anchor=\"middle\" y=\"484.5\">\n",
       "    <tspan class=\"displacy-word\" fill=\"currentColor\" x=\"4075\">pandemia</tspan>\n",
       "    <tspan class=\"displacy-tag\" dy=\"2em\" fill=\"currentColor\" x=\"4075\">NOUN</tspan>\n",
       "</text>\n",
       "\n",
       "<g class=\"displacy-arrow\">\n",
       "    <path class=\"displacy-arc\" id=\"arrow-be850ba3b764437a8ea779efd9e635d2-0-0\" stroke-width=\"2px\" d=\"M70,439.5 C70,352.0 205.0,352.0 205.0,439.5\" fill=\"none\" stroke=\"currentColor\"/>\n",
       "    <text dy=\"1.25em\" style=\"font-size: 0.8em; letter-spacing: 1px\">\n",
       "        <textPath xlink:href=\"#arrow-be850ba3b764437a8ea779efd9e635d2-0-0\" class=\"displacy-label\" startOffset=\"50%\" side=\"left\" fill=\"currentColor\" text-anchor=\"middle\">det</textPath>\n",
       "    </text>\n",
       "    <path class=\"displacy-arrowhead\" d=\"M70,441.5 L62,429.5 78,429.5\" fill=\"currentColor\"/>\n",
       "</g>\n",
       "\n",
       "<g class=\"displacy-arrow\">\n",
       "    <path class=\"displacy-arc\" id=\"arrow-be850ba3b764437a8ea779efd9e635d2-0-1\" stroke-width=\"2px\" d=\"M245,439.5 C245,2.0 1450.0,2.0 1450.0,439.5\" fill=\"none\" stroke=\"currentColor\"/>\n",
       "    <text dy=\"1.25em\" style=\"font-size: 0.8em; letter-spacing: 1px\">\n",
       "        <textPath xlink:href=\"#arrow-be850ba3b764437a8ea779efd9e635d2-0-1\" class=\"displacy-label\" startOffset=\"50%\" side=\"left\" fill=\"currentColor\" text-anchor=\"middle\">nsubj</textPath>\n",
       "    </text>\n",
       "    <path class=\"displacy-arrowhead\" d=\"M245,441.5 L237,429.5 253,429.5\" fill=\"currentColor\"/>\n",
       "</g>\n",
       "\n",
       "<g class=\"displacy-arrow\">\n",
       "    <path class=\"displacy-arc\" id=\"arrow-be850ba3b764437a8ea779efd9e635d2-0-2\" stroke-width=\"2px\" d=\"M420,439.5 C420,352.0 555.0,352.0 555.0,439.5\" fill=\"none\" stroke=\"currentColor\"/>\n",
       "    <text dy=\"1.25em\" style=\"font-size: 0.8em; letter-spacing: 1px\">\n",
       "        <textPath xlink:href=\"#arrow-be850ba3b764437a8ea779efd9e635d2-0-2\" class=\"displacy-label\" startOffset=\"50%\" side=\"left\" fill=\"currentColor\" text-anchor=\"middle\">case</textPath>\n",
       "    </text>\n",
       "    <path class=\"displacy-arrowhead\" d=\"M420,441.5 L412,429.5 428,429.5\" fill=\"currentColor\"/>\n",
       "</g>\n",
       "\n",
       "<g class=\"displacy-arrow\">\n",
       "    <path class=\"displacy-arc\" id=\"arrow-be850ba3b764437a8ea779efd9e635d2-0-3\" stroke-width=\"2px\" d=\"M245,439.5 C245,264.5 560.0,264.5 560.0,439.5\" fill=\"none\" stroke=\"currentColor\"/>\n",
       "    <text dy=\"1.25em\" style=\"font-size: 0.8em; letter-spacing: 1px\">\n",
       "        <textPath xlink:href=\"#arrow-be850ba3b764437a8ea779efd9e635d2-0-3\" class=\"displacy-label\" startOffset=\"50%\" side=\"left\" fill=\"currentColor\" text-anchor=\"middle\">nmod</textPath>\n",
       "    </text>\n",
       "    <path class=\"displacy-arrowhead\" d=\"M560.0,441.5 L568.0,429.5 552.0,429.5\" fill=\"currentColor\"/>\n",
       "</g>\n",
       "\n",
       "<g class=\"displacy-arrow\">\n",
       "    <path class=\"displacy-arc\" id=\"arrow-be850ba3b764437a8ea779efd9e635d2-0-4\" stroke-width=\"2px\" d=\"M595,439.5 C595,352.0 730.0,352.0 730.0,439.5\" fill=\"none\" stroke=\"currentColor\"/>\n",
       "    <text dy=\"1.25em\" style=\"font-size: 0.8em; letter-spacing: 1px\">\n",
       "        <textPath xlink:href=\"#arrow-be850ba3b764437a8ea779efd9e635d2-0-4\" class=\"displacy-label\" startOffset=\"50%\" side=\"left\" fill=\"currentColor\" text-anchor=\"middle\">appos</textPath>\n",
       "    </text>\n",
       "    <path class=\"displacy-arrowhead\" d=\"M730.0,441.5 L738.0,429.5 722.0,429.5\" fill=\"currentColor\"/>\n",
       "</g>\n",
       "\n",
       "<g class=\"displacy-arrow\">\n",
       "    <path class=\"displacy-arc\" id=\"arrow-be850ba3b764437a8ea779efd9e635d2-0-5\" stroke-width=\"2px\" d=\"M595,439.5 C595,264.5 910.0,264.5 910.0,439.5\" fill=\"none\" stroke=\"currentColor\"/>\n",
       "    <text dy=\"1.25em\" style=\"font-size: 0.8em; letter-spacing: 1px\">\n",
       "        <textPath xlink:href=\"#arrow-be850ba3b764437a8ea779efd9e635d2-0-5\" class=\"displacy-label\" startOffset=\"50%\" side=\"left\" fill=\"currentColor\" text-anchor=\"middle\">flat:name</textPath>\n",
       "    </text>\n",
       "    <path class=\"displacy-arrowhead\" d=\"M910.0,441.5 L918.0,429.5 902.0,429.5\" fill=\"currentColor\"/>\n",
       "</g>\n",
       "\n",
       "<g class=\"displacy-arrow\">\n",
       "    <path class=\"displacy-arc\" id=\"arrow-be850ba3b764437a8ea779efd9e635d2-0-6\" stroke-width=\"2px\" d=\"M595,439.5 C595,177.0 1090.0,177.0 1090.0,439.5\" fill=\"none\" stroke=\"currentColor\"/>\n",
       "    <text dy=\"1.25em\" style=\"font-size: 0.8em; letter-spacing: 1px\">\n",
       "        <textPath xlink:href=\"#arrow-be850ba3b764437a8ea779efd9e635d2-0-6\" class=\"displacy-label\" startOffset=\"50%\" side=\"left\" fill=\"currentColor\" text-anchor=\"middle\">conj</textPath>\n",
       "    </text>\n",
       "    <path class=\"displacy-arrowhead\" d=\"M1090.0,441.5 L1098.0,429.5 1082.0,429.5\" fill=\"currentColor\"/>\n",
       "</g>\n",
       "\n",
       "<g class=\"displacy-arrow\">\n",
       "    <path class=\"displacy-arc\" id=\"arrow-be850ba3b764437a8ea779efd9e635d2-0-7\" stroke-width=\"2px\" d=\"M595,439.5 C595,89.5 1270.0,89.5 1270.0,439.5\" fill=\"none\" stroke=\"currentColor\"/>\n",
       "    <text dy=\"1.25em\" style=\"font-size: 0.8em; letter-spacing: 1px\">\n",
       "        <textPath xlink:href=\"#arrow-be850ba3b764437a8ea779efd9e635d2-0-7\" class=\"displacy-label\" startOffset=\"50%\" side=\"left\" fill=\"currentColor\" text-anchor=\"middle\">conj</textPath>\n",
       "    </text>\n",
       "    <path class=\"displacy-arrowhead\" d=\"M1270.0,441.5 L1278.0,429.5 1262.0,429.5\" fill=\"currentColor\"/>\n",
       "</g>\n",
       "\n",
       "<g class=\"displacy-arrow\">\n",
       "    <path class=\"displacy-arc\" id=\"arrow-be850ba3b764437a8ea779efd9e635d2-0-8\" stroke-width=\"2px\" d=\"M1470,439.5 C1470,352.0 1605.0,352.0 1605.0,439.5\" fill=\"none\" stroke=\"currentColor\"/>\n",
       "    <text dy=\"1.25em\" style=\"font-size: 0.8em; letter-spacing: 1px\">\n",
       "        <textPath xlink:href=\"#arrow-be850ba3b764437a8ea779efd9e635d2-0-8\" class=\"displacy-label\" startOffset=\"50%\" side=\"left\" fill=\"currentColor\" text-anchor=\"middle\">obj</textPath>\n",
       "    </text>\n",
       "    <path class=\"displacy-arrowhead\" d=\"M1605.0,441.5 L1613.0,429.5 1597.0,429.5\" fill=\"currentColor\"/>\n",
       "</g>\n",
       "\n",
       "<g class=\"displacy-arrow\">\n",
       "    <path class=\"displacy-arc\" id=\"arrow-be850ba3b764437a8ea779efd9e635d2-0-9\" stroke-width=\"2px\" d=\"M1820,439.5 C1820,352.0 1955.0,352.0 1955.0,439.5\" fill=\"none\" stroke=\"currentColor\"/>\n",
       "    <text dy=\"1.25em\" style=\"font-size: 0.8em; letter-spacing: 1px\">\n",
       "        <textPath xlink:href=\"#arrow-be850ba3b764437a8ea779efd9e635d2-0-9\" class=\"displacy-label\" startOffset=\"50%\" side=\"left\" fill=\"currentColor\" text-anchor=\"middle\">case</textPath>\n",
       "    </text>\n",
       "    <path class=\"displacy-arrowhead\" d=\"M1820,441.5 L1812,429.5 1828,429.5\" fill=\"currentColor\"/>\n",
       "</g>\n",
       "\n",
       "<g class=\"displacy-arrow\">\n",
       "    <path class=\"displacy-arc\" id=\"arrow-be850ba3b764437a8ea779efd9e635d2-0-10\" stroke-width=\"2px\" d=\"M1645,439.5 C1645,264.5 1960.0,264.5 1960.0,439.5\" fill=\"none\" stroke=\"currentColor\"/>\n",
       "    <text dy=\"1.25em\" style=\"font-size: 0.8em; letter-spacing: 1px\">\n",
       "        <textPath xlink:href=\"#arrow-be850ba3b764437a8ea779efd9e635d2-0-10\" class=\"displacy-label\" startOffset=\"50%\" side=\"left\" fill=\"currentColor\" text-anchor=\"middle\">nmod</textPath>\n",
       "    </text>\n",
       "    <path class=\"displacy-arrowhead\" d=\"M1960.0,441.5 L1968.0,429.5 1952.0,429.5\" fill=\"currentColor\"/>\n",
       "</g>\n",
       "\n",
       "<g class=\"displacy-arrow\">\n",
       "    <path class=\"displacy-arc\" id=\"arrow-be850ba3b764437a8ea779efd9e635d2-0-11\" stroke-width=\"2px\" d=\"M2170,439.5 C2170,352.0 2305.0,352.0 2305.0,439.5\" fill=\"none\" stroke=\"currentColor\"/>\n",
       "    <text dy=\"1.25em\" style=\"font-size: 0.8em; letter-spacing: 1px\">\n",
       "        <textPath xlink:href=\"#arrow-be850ba3b764437a8ea779efd9e635d2-0-11\" class=\"displacy-label\" startOffset=\"50%\" side=\"left\" fill=\"currentColor\" text-anchor=\"middle\">case</textPath>\n",
       "    </text>\n",
       "    <path class=\"displacy-arrowhead\" d=\"M2170,441.5 L2162,429.5 2178,429.5\" fill=\"currentColor\"/>\n",
       "</g>\n",
       "\n",
       "<g class=\"displacy-arrow\">\n",
       "    <path class=\"displacy-arc\" id=\"arrow-be850ba3b764437a8ea779efd9e635d2-0-12\" stroke-width=\"2px\" d=\"M1645,439.5 C1645,177.0 2315.0,177.0 2315.0,439.5\" fill=\"none\" stroke=\"currentColor\"/>\n",
       "    <text dy=\"1.25em\" style=\"font-size: 0.8em; letter-spacing: 1px\">\n",
       "        <textPath xlink:href=\"#arrow-be850ba3b764437a8ea779efd9e635d2-0-12\" class=\"displacy-label\" startOffset=\"50%\" side=\"left\" fill=\"currentColor\" text-anchor=\"middle\">nmod</textPath>\n",
       "    </text>\n",
       "    <path class=\"displacy-arrowhead\" d=\"M2315.0,441.5 L2323.0,429.5 2307.0,429.5\" fill=\"currentColor\"/>\n",
       "</g>\n",
       "\n",
       "<g class=\"displacy-arrow\">\n",
       "    <path class=\"displacy-arc\" id=\"arrow-be850ba3b764437a8ea779efd9e635d2-0-13\" stroke-width=\"2px\" d=\"M2520,439.5 C2520,264.5 2835.0,264.5 2835.0,439.5\" fill=\"none\" stroke=\"currentColor\"/>\n",
       "    <text dy=\"1.25em\" style=\"font-size: 0.8em; letter-spacing: 1px\">\n",
       "        <textPath xlink:href=\"#arrow-be850ba3b764437a8ea779efd9e635d2-0-13\" class=\"displacy-label\" startOffset=\"50%\" side=\"left\" fill=\"currentColor\" text-anchor=\"middle\">advmod</textPath>\n",
       "    </text>\n",
       "    <path class=\"displacy-arrowhead\" d=\"M2520,441.5 L2512,429.5 2528,429.5\" fill=\"currentColor\"/>\n",
       "</g>\n",
       "\n",
       "<g class=\"displacy-arrow\">\n",
       "    <path class=\"displacy-arc\" id=\"arrow-be850ba3b764437a8ea779efd9e635d2-0-14\" stroke-width=\"2px\" d=\"M2695,439.5 C2695,352.0 2830.0,352.0 2830.0,439.5\" fill=\"none\" stroke=\"currentColor\"/>\n",
       "    <text dy=\"1.25em\" style=\"font-size: 0.8em; letter-spacing: 1px\">\n",
       "        <textPath xlink:href=\"#arrow-be850ba3b764437a8ea779efd9e635d2-0-14\" class=\"displacy-label\" startOffset=\"50%\" side=\"left\" fill=\"currentColor\" text-anchor=\"middle\">advmod</textPath>\n",
       "    </text>\n",
       "    <path class=\"displacy-arrowhead\" d=\"M2695,441.5 L2687,429.5 2703,429.5\" fill=\"currentColor\"/>\n",
       "</g>\n",
       "\n",
       "<g class=\"displacy-arrow\">\n",
       "    <path class=\"displacy-arc\" id=\"arrow-be850ba3b764437a8ea779efd9e635d2-0-15\" stroke-width=\"2px\" d=\"M3045,439.5 C3045,264.5 3360.0,264.5 3360.0,439.5\" fill=\"none\" stroke=\"currentColor\"/>\n",
       "    <text dy=\"1.25em\" style=\"font-size: 0.8em; letter-spacing: 1px\">\n",
       "        <textPath xlink:href=\"#arrow-be850ba3b764437a8ea779efd9e635d2-0-15\" class=\"displacy-label\" startOffset=\"50%\" side=\"left\" fill=\"currentColor\" text-anchor=\"middle\">det</textPath>\n",
       "    </text>\n",
       "    <path class=\"displacy-arrowhead\" d=\"M3045,441.5 L3037,429.5 3053,429.5\" fill=\"currentColor\"/>\n",
       "</g>\n",
       "\n",
       "<g class=\"displacy-arrow\">\n",
       "    <path class=\"displacy-arc\" id=\"arrow-be850ba3b764437a8ea779efd9e635d2-0-16\" stroke-width=\"2px\" d=\"M3220,439.5 C3220,352.0 3355.0,352.0 3355.0,439.5\" fill=\"none\" stroke=\"currentColor\"/>\n",
       "    <text dy=\"1.25em\" style=\"font-size: 0.8em; letter-spacing: 1px\">\n",
       "        <textPath xlink:href=\"#arrow-be850ba3b764437a8ea779efd9e635d2-0-16\" class=\"displacy-label\" startOffset=\"50%\" side=\"left\" fill=\"currentColor\" text-anchor=\"middle\">det</textPath>\n",
       "    </text>\n",
       "    <path class=\"displacy-arrowhead\" d=\"M3220,441.5 L3212,429.5 3228,429.5\" fill=\"currentColor\"/>\n",
       "</g>\n",
       "\n",
       "<g class=\"displacy-arrow\">\n",
       "    <path class=\"displacy-arc\" id=\"arrow-be850ba3b764437a8ea779efd9e635d2-0-17\" stroke-width=\"2px\" d=\"M2870,439.5 C2870,177.0 3365.0,177.0 3365.0,439.5\" fill=\"none\" stroke=\"currentColor\"/>\n",
       "    <text dy=\"1.25em\" style=\"font-size: 0.8em; letter-spacing: 1px\">\n",
       "        <textPath xlink:href=\"#arrow-be850ba3b764437a8ea779efd9e635d2-0-17\" class=\"displacy-label\" startOffset=\"50%\" side=\"left\" fill=\"currentColor\" text-anchor=\"middle\">obj</textPath>\n",
       "    </text>\n",
       "    <path class=\"displacy-arrowhead\" d=\"M3365.0,441.5 L3373.0,429.5 3357.0,429.5\" fill=\"currentColor\"/>\n",
       "</g>\n",
       "\n",
       "<g class=\"displacy-arrow\">\n",
       "    <path class=\"displacy-arc\" id=\"arrow-be850ba3b764437a8ea779efd9e635d2-0-18\" stroke-width=\"2px\" d=\"M3570,439.5 C3570,352.0 3705.0,352.0 3705.0,439.5\" fill=\"none\" stroke=\"currentColor\"/>\n",
       "    <text dy=\"1.25em\" style=\"font-size: 0.8em; letter-spacing: 1px\">\n",
       "        <textPath xlink:href=\"#arrow-be850ba3b764437a8ea779efd9e635d2-0-18\" class=\"displacy-label\" startOffset=\"50%\" side=\"left\" fill=\"currentColor\" text-anchor=\"middle\">case</textPath>\n",
       "    </text>\n",
       "    <path class=\"displacy-arrowhead\" d=\"M3570,441.5 L3562,429.5 3578,429.5\" fill=\"currentColor\"/>\n",
       "</g>\n",
       "\n",
       "<g class=\"displacy-arrow\">\n",
       "    <path class=\"displacy-arc\" id=\"arrow-be850ba3b764437a8ea779efd9e635d2-0-19\" stroke-width=\"2px\" d=\"M3395,439.5 C3395,264.5 3710.0,264.5 3710.0,439.5\" fill=\"none\" stroke=\"currentColor\"/>\n",
       "    <text dy=\"1.25em\" style=\"font-size: 0.8em; letter-spacing: 1px\">\n",
       "        <textPath xlink:href=\"#arrow-be850ba3b764437a8ea779efd9e635d2-0-19\" class=\"displacy-label\" startOffset=\"50%\" side=\"left\" fill=\"currentColor\" text-anchor=\"middle\">nmod</textPath>\n",
       "    </text>\n",
       "    <path class=\"displacy-arrowhead\" d=\"M3710.0,441.5 L3718.0,429.5 3702.0,429.5\" fill=\"currentColor\"/>\n",
       "</g>\n",
       "\n",
       "<g class=\"displacy-arrow\">\n",
       "    <path class=\"displacy-arc\" id=\"arrow-be850ba3b764437a8ea779efd9e635d2-0-20\" stroke-width=\"2px\" d=\"M3920,439.5 C3920,352.0 4055.0,352.0 4055.0,439.5\" fill=\"none\" stroke=\"currentColor\"/>\n",
       "    <text dy=\"1.25em\" style=\"font-size: 0.8em; letter-spacing: 1px\">\n",
       "        <textPath xlink:href=\"#arrow-be850ba3b764437a8ea779efd9e635d2-0-20\" class=\"displacy-label\" startOffset=\"50%\" side=\"left\" fill=\"currentColor\" text-anchor=\"middle\">case</textPath>\n",
       "    </text>\n",
       "    <path class=\"displacy-arrowhead\" d=\"M3920,441.5 L3912,429.5 3928,429.5\" fill=\"currentColor\"/>\n",
       "</g>\n",
       "\n",
       "<g class=\"displacy-arrow\">\n",
       "    <path class=\"displacy-arc\" id=\"arrow-be850ba3b764437a8ea779efd9e635d2-0-21\" stroke-width=\"2px\" d=\"M3745,439.5 C3745,264.5 4060.0,264.5 4060.0,439.5\" fill=\"none\" stroke=\"currentColor\"/>\n",
       "    <text dy=\"1.25em\" style=\"font-size: 0.8em; letter-spacing: 1px\">\n",
       "        <textPath xlink:href=\"#arrow-be850ba3b764437a8ea779efd9e635d2-0-21\" class=\"displacy-label\" startOffset=\"50%\" side=\"left\" fill=\"currentColor\" text-anchor=\"middle\">nmod</textPath>\n",
       "    </text>\n",
       "    <path class=\"displacy-arrowhead\" d=\"M4060.0,441.5 L4068.0,429.5 4052.0,429.5\" fill=\"currentColor\"/>\n",
       "</g>\n",
       "</svg></span>"
      ],
      "text/plain": [
       "<IPython.core.display.HTML object>"
      ]
     },
     "metadata": {},
     "output_type": "display_data"
    }
   ],
   "source": [
    "from spacy import displacy\n",
    "\n",
    "# Reconhecimento de dependências\n",
    "displacy.render(documento,style=\"dep\", jupyter=True)"
   ]
  },
  {
   "cell_type": "code",
   "execution_count": 171,
   "metadata": {},
   "outputs": [
    {
     "data": {
      "text/html": [
       "<span class=\"tex2jax_ignore\"><svg xmlns=\"http://www.w3.org/2000/svg\" xmlns:xlink=\"http://www.w3.org/1999/xlink\" xml:lang=\"pt\" id=\"8b348db8b3244354ae98437e4a0225e0-0\" class=\"displacy\" width=\"1970\" height=\"337.0\" direction=\"ltr\" style=\"max-width: none; height: 337.0px; color: #FFFFFF; background: #000000; font-family: Arial; direction: ltr\">\n",
       "<text class=\"displacy-token\" fill=\"currentColor\" text-anchor=\"middle\" y=\"247.0\">\n",
       "    <tspan class=\"displacy-word\" fill=\"currentColor\" x=\"50\">As</tspan>\n",
       "    <tspan class=\"displacy-tag\" dy=\"2em\" fill=\"currentColor\" x=\"50\">DET</tspan>\n",
       "</text>\n",
       "\n",
       "<text class=\"displacy-token\" fill=\"currentColor\" text-anchor=\"middle\" y=\"247.0\">\n",
       "    <tspan class=\"displacy-word\" fill=\"currentColor\" x=\"130\">ações</tspan>\n",
       "    <tspan class=\"displacy-tag\" dy=\"2em\" fill=\"currentColor\" x=\"130\">NOUN</tspan>\n",
       "</text>\n",
       "\n",
       "<text class=\"displacy-token\" fill=\"currentColor\" text-anchor=\"middle\" y=\"247.0\">\n",
       "    <tspan class=\"displacy-word\" fill=\"currentColor\" x=\"210\">do</tspan>\n",
       "    <tspan class=\"displacy-tag\" dy=\"2em\" fill=\"currentColor\" x=\"210\">ADP</tspan>\n",
       "</text>\n",
       "\n",
       "<text class=\"displacy-token\" fill=\"currentColor\" text-anchor=\"middle\" y=\"247.0\">\n",
       "    <tspan class=\"displacy-word\" fill=\"currentColor\" x=\"290\">Magazine</tspan>\n",
       "    <tspan class=\"displacy-tag\" dy=\"2em\" fill=\"currentColor\" x=\"290\">PROPN</tspan>\n",
       "</text>\n",
       "\n",
       "<text class=\"displacy-token\" fill=\"currentColor\" text-anchor=\"middle\" y=\"247.0\">\n",
       "    <tspan class=\"displacy-word\" fill=\"currentColor\" x=\"370\">Luiza</tspan>\n",
       "    <tspan class=\"displacy-tag\" dy=\"2em\" fill=\"currentColor\" x=\"370\">PROPN</tspan>\n",
       "</text>\n",
       "\n",
       "<text class=\"displacy-token\" fill=\"currentColor\" text-anchor=\"middle\" y=\"247.0\">\n",
       "    <tspan class=\"displacy-word\" fill=\"currentColor\" x=\"450\">S.A.,</tspan>\n",
       "    <tspan class=\"displacy-tag\" dy=\"2em\" fill=\"currentColor\" x=\"450\">PROPN</tspan>\n",
       "</text>\n",
       "\n",
       "<text class=\"displacy-token\" fill=\"currentColor\" text-anchor=\"middle\" y=\"247.0\">\n",
       "    <tspan class=\"displacy-word\" fill=\"currentColor\" x=\"530\">Franca,</tspan>\n",
       "    <tspan class=\"displacy-tag\" dy=\"2em\" fill=\"currentColor\" x=\"530\">PROPN</tspan>\n",
       "</text>\n",
       "\n",
       "<text class=\"displacy-token\" fill=\"currentColor\" text-anchor=\"middle\" y=\"247.0\">\n",
       "    <tspan class=\"displacy-word\" fill=\"currentColor\" x=\"610\">Brasil,</tspan>\n",
       "    <tspan class=\"displacy-tag\" dy=\"2em\" fill=\"currentColor\" x=\"610\">PROPN</tspan>\n",
       "</text>\n",
       "\n",
       "<text class=\"displacy-token\" fill=\"currentColor\" text-anchor=\"middle\" y=\"247.0\">\n",
       "    <tspan class=\"displacy-word\" fill=\"currentColor\" x=\"690\">acumularam</tspan>\n",
       "    <tspan class=\"displacy-tag\" dy=\"2em\" fill=\"currentColor\" x=\"690\">VERB</tspan>\n",
       "</text>\n",
       "\n",
       "<text class=\"displacy-token\" fill=\"currentColor\" text-anchor=\"middle\" y=\"247.0\">\n",
       "    <tspan class=\"displacy-word\" fill=\"currentColor\" x=\"770\">baixa</tspan>\n",
       "    <tspan class=\"displacy-tag\" dy=\"2em\" fill=\"currentColor\" x=\"770\">NOUN</tspan>\n",
       "</text>\n",
       "\n",
       "<text class=\"displacy-token\" fill=\"currentColor\" text-anchor=\"middle\" y=\"247.0\">\n",
       "    <tspan class=\"displacy-word\" fill=\"currentColor\" x=\"850\">de</tspan>\n",
       "    <tspan class=\"displacy-tag\" dy=\"2em\" fill=\"currentColor\" x=\"850\">ADP</tspan>\n",
       "</text>\n",
       "\n",
       "<text class=\"displacy-token\" fill=\"currentColor\" text-anchor=\"middle\" y=\"247.0\">\n",
       "    <tspan class=\"displacy-word\" fill=\"currentColor\" x=\"930\">70%</tspan>\n",
       "    <tspan class=\"displacy-tag\" dy=\"2em\" fill=\"currentColor\" x=\"930\">SYM</tspan>\n",
       "</text>\n",
       "\n",
       "<text class=\"displacy-token\" fill=\"currentColor\" text-anchor=\"middle\" y=\"247.0\">\n",
       "    <tspan class=\"displacy-word\" fill=\"currentColor\" x=\"1010\">ao</tspan>\n",
       "    <tspan class=\"displacy-tag\" dy=\"2em\" fill=\"currentColor\" x=\"1010\">ADP</tspan>\n",
       "</text>\n",
       "\n",
       "<text class=\"displacy-token\" fill=\"currentColor\" text-anchor=\"middle\" y=\"247.0\">\n",
       "    <tspan class=\"displacy-word\" fill=\"currentColor\" x=\"1090\">ano.</tspan>\n",
       "    <tspan class=\"displacy-tag\" dy=\"2em\" fill=\"currentColor\" x=\"1090\">NOUN</tspan>\n",
       "</text>\n",
       "\n",
       "<text class=\"displacy-token\" fill=\"currentColor\" text-anchor=\"middle\" y=\"247.0\">\n",
       "    <tspan class=\"displacy-word\" fill=\"currentColor\" x=\"1170\">Assim</tspan>\n",
       "    <tspan class=\"displacy-tag\" dy=\"2em\" fill=\"currentColor\" x=\"1170\">ADV</tspan>\n",
       "</text>\n",
       "\n",
       "<text class=\"displacy-token\" fill=\"currentColor\" text-anchor=\"middle\" y=\"247.0\">\n",
       "    <tspan class=\"displacy-word\" fill=\"currentColor\" x=\"1250\">já</tspan>\n",
       "    <tspan class=\"displacy-tag\" dy=\"2em\" fill=\"currentColor\" x=\"1250\">ADV</tspan>\n",
       "</text>\n",
       "\n",
       "<text class=\"displacy-token\" fill=\"currentColor\" text-anchor=\"middle\" y=\"247.0\">\n",
       "    <tspan class=\"displacy-word\" fill=\"currentColor\" x=\"1330\">devolveram</tspan>\n",
       "    <tspan class=\"displacy-tag\" dy=\"2em\" fill=\"currentColor\" x=\"1330\">VERB</tspan>\n",
       "</text>\n",
       "\n",
       "<text class=\"displacy-token\" fill=\"currentColor\" text-anchor=\"middle\" y=\"247.0\">\n",
       "    <tspan class=\"displacy-word\" fill=\"currentColor\" x=\"1410\">todos</tspan>\n",
       "    <tspan class=\"displacy-tag\" dy=\"2em\" fill=\"currentColor\" x=\"1410\">DET</tspan>\n",
       "</text>\n",
       "\n",
       "<text class=\"displacy-token\" fill=\"currentColor\" text-anchor=\"middle\" y=\"247.0\">\n",
       "    <tspan class=\"displacy-word\" fill=\"currentColor\" x=\"1490\">os</tspan>\n",
       "    <tspan class=\"displacy-tag\" dy=\"2em\" fill=\"currentColor\" x=\"1490\">DET</tspan>\n",
       "</text>\n",
       "\n",
       "<text class=\"displacy-token\" fill=\"currentColor\" text-anchor=\"middle\" y=\"247.0\">\n",
       "    <tspan class=\"displacy-word\" fill=\"currentColor\" x=\"1570\">ganhos</tspan>\n",
       "    <tspan class=\"displacy-tag\" dy=\"2em\" fill=\"currentColor\" x=\"1570\">NOUN</tspan>\n",
       "</text>\n",
       "\n",
       "<text class=\"displacy-token\" fill=\"currentColor\" text-anchor=\"middle\" y=\"247.0\">\n",
       "    <tspan class=\"displacy-word\" fill=\"currentColor\" x=\"1650\">do</tspan>\n",
       "    <tspan class=\"displacy-tag\" dy=\"2em\" fill=\"currentColor\" x=\"1650\">ADP</tspan>\n",
       "</text>\n",
       "\n",
       "<text class=\"displacy-token\" fill=\"currentColor\" text-anchor=\"middle\" y=\"247.0\">\n",
       "    <tspan class=\"displacy-word\" fill=\"currentColor\" x=\"1730\">período</tspan>\n",
       "    <tspan class=\"displacy-tag\" dy=\"2em\" fill=\"currentColor\" x=\"1730\">NOUN</tspan>\n",
       "</text>\n",
       "\n",
       "<text class=\"displacy-token\" fill=\"currentColor\" text-anchor=\"middle\" y=\"247.0\">\n",
       "    <tspan class=\"displacy-word\" fill=\"currentColor\" x=\"1810\">da</tspan>\n",
       "    <tspan class=\"displacy-tag\" dy=\"2em\" fill=\"currentColor\" x=\"1810\">ADP</tspan>\n",
       "</text>\n",
       "\n",
       "<text class=\"displacy-token\" fill=\"currentColor\" text-anchor=\"middle\" y=\"247.0\">\n",
       "    <tspan class=\"displacy-word\" fill=\"currentColor\" x=\"1890\">pandemia</tspan>\n",
       "    <tspan class=\"displacy-tag\" dy=\"2em\" fill=\"currentColor\" x=\"1890\">NOUN</tspan>\n",
       "</text>\n",
       "\n",
       "<g class=\"displacy-arrow\">\n",
       "    <path class=\"displacy-arc\" id=\"arrow-8b348db8b3244354ae98437e4a0225e0-0-0\" stroke-width=\"2px\" d=\"M62,202.0 62,188.66666666666666 118.0,188.66666666666666 118.0,202.0\" fill=\"none\" stroke=\"currentColor\"/>\n",
       "    <text dy=\"1.25em\" style=\"font-size: 0.8em; letter-spacing: 1px\">\n",
       "        <textPath xlink:href=\"#arrow-8b348db8b3244354ae98437e4a0225e0-0-0\" class=\"displacy-label\" startOffset=\"50%\" side=\"left\" fill=\"currentColor\" text-anchor=\"middle\">det</textPath>\n",
       "    </text>\n",
       "    <path class=\"displacy-arrowhead\" d=\"M62,204.0 L58,196.0 66,196.0\" fill=\"currentColor\"/>\n",
       "</g>\n",
       "\n",
       "<g class=\"displacy-arrow\">\n",
       "    <path class=\"displacy-arc\" id=\"arrow-8b348db8b3244354ae98437e4a0225e0-0-1\" stroke-width=\"2px\" d=\"M142,202.0 142,135.33333333333331 690.0,135.33333333333331 690.0,202.0\" fill=\"none\" stroke=\"currentColor\"/>\n",
       "    <text dy=\"1.25em\" style=\"font-size: 0.8em; letter-spacing: 1px\">\n",
       "        <textPath xlink:href=\"#arrow-8b348db8b3244354ae98437e4a0225e0-0-1\" class=\"displacy-label\" startOffset=\"50%\" side=\"left\" fill=\"currentColor\" text-anchor=\"middle\">nsubj</textPath>\n",
       "    </text>\n",
       "    <path class=\"displacy-arrowhead\" d=\"M142,204.0 L138,196.0 146,196.0\" fill=\"currentColor\"/>\n",
       "</g>\n",
       "\n",
       "<g class=\"displacy-arrow\">\n",
       "    <path class=\"displacy-arc\" id=\"arrow-8b348db8b3244354ae98437e4a0225e0-0-2\" stroke-width=\"2px\" d=\"M222,202.0 222,188.66666666666666 278.0,188.66666666666666 278.0,202.0\" fill=\"none\" stroke=\"currentColor\"/>\n",
       "    <text dy=\"1.25em\" style=\"font-size: 0.8em; letter-spacing: 1px\">\n",
       "        <textPath xlink:href=\"#arrow-8b348db8b3244354ae98437e4a0225e0-0-2\" class=\"displacy-label\" startOffset=\"50%\" side=\"left\" fill=\"currentColor\" text-anchor=\"middle\">case</textPath>\n",
       "    </text>\n",
       "    <path class=\"displacy-arrowhead\" d=\"M222,204.0 L218,196.0 226,196.0\" fill=\"currentColor\"/>\n",
       "</g>\n",
       "\n",
       "<g class=\"displacy-arrow\">\n",
       "    <path class=\"displacy-arc\" id=\"arrow-8b348db8b3244354ae98437e4a0225e0-0-3\" stroke-width=\"2px\" d=\"M142,202.0 142,175.33333333333334 281.0,175.33333333333334 281.0,202.0\" fill=\"none\" stroke=\"currentColor\"/>\n",
       "    <text dy=\"1.25em\" style=\"font-size: 0.8em; letter-spacing: 1px\">\n",
       "        <textPath xlink:href=\"#arrow-8b348db8b3244354ae98437e4a0225e0-0-3\" class=\"displacy-label\" startOffset=\"50%\" side=\"left\" fill=\"currentColor\" text-anchor=\"middle\">nmod</textPath>\n",
       "    </text>\n",
       "    <path class=\"displacy-arrowhead\" d=\"M281.0,204.0 L285.0,196.0 277.0,196.0\" fill=\"currentColor\"/>\n",
       "</g>\n",
       "\n",
       "<g class=\"displacy-arrow\">\n",
       "    <path class=\"displacy-arc\" id=\"arrow-8b348db8b3244354ae98437e4a0225e0-0-4\" stroke-width=\"2px\" d=\"M302,202.0 302,188.66666666666666 358.0,188.66666666666666 358.0,202.0\" fill=\"none\" stroke=\"currentColor\"/>\n",
       "    <text dy=\"1.25em\" style=\"font-size: 0.8em; letter-spacing: 1px\">\n",
       "        <textPath xlink:href=\"#arrow-8b348db8b3244354ae98437e4a0225e0-0-4\" class=\"displacy-label\" startOffset=\"50%\" side=\"left\" fill=\"currentColor\" text-anchor=\"middle\">appos</textPath>\n",
       "    </text>\n",
       "    <path class=\"displacy-arrowhead\" d=\"M358.0,204.0 L362.0,196.0 354.0,196.0\" fill=\"currentColor\"/>\n",
       "</g>\n",
       "\n",
       "<g class=\"displacy-arrow\">\n",
       "    <path class=\"displacy-arc\" id=\"arrow-8b348db8b3244354ae98437e4a0225e0-0-5\" stroke-width=\"2px\" d=\"M302,202.0 302,175.33333333333334 441.0,175.33333333333334 441.0,202.0\" fill=\"none\" stroke=\"currentColor\"/>\n",
       "    <text dy=\"1.25em\" style=\"font-size: 0.8em; letter-spacing: 1px\">\n",
       "        <textPath xlink:href=\"#arrow-8b348db8b3244354ae98437e4a0225e0-0-5\" class=\"displacy-label\" startOffset=\"50%\" side=\"left\" fill=\"currentColor\" text-anchor=\"middle\">flat:name</textPath>\n",
       "    </text>\n",
       "    <path class=\"displacy-arrowhead\" d=\"M441.0,204.0 L445.0,196.0 437.0,196.0\" fill=\"currentColor\"/>\n",
       "</g>\n",
       "\n",
       "<g class=\"displacy-arrow\">\n",
       "    <path class=\"displacy-arc\" id=\"arrow-8b348db8b3244354ae98437e4a0225e0-0-6\" stroke-width=\"2px\" d=\"M302,202.0 302,162.0 524.0,162.0 524.0,202.0\" fill=\"none\" stroke=\"currentColor\"/>\n",
       "    <text dy=\"1.25em\" style=\"font-size: 0.8em; letter-spacing: 1px\">\n",
       "        <textPath xlink:href=\"#arrow-8b348db8b3244354ae98437e4a0225e0-0-6\" class=\"displacy-label\" startOffset=\"50%\" side=\"left\" fill=\"currentColor\" text-anchor=\"middle\">conj</textPath>\n",
       "    </text>\n",
       "    <path class=\"displacy-arrowhead\" d=\"M524.0,204.0 L528.0,196.0 520.0,196.0\" fill=\"currentColor\"/>\n",
       "</g>\n",
       "\n",
       "<g class=\"displacy-arrow\">\n",
       "    <path class=\"displacy-arc\" id=\"arrow-8b348db8b3244354ae98437e4a0225e0-0-7\" stroke-width=\"2px\" d=\"M302,202.0 302,148.66666666666666 607.0,148.66666666666666 607.0,202.0\" fill=\"none\" stroke=\"currentColor\"/>\n",
       "    <text dy=\"1.25em\" style=\"font-size: 0.8em; letter-spacing: 1px\">\n",
       "        <textPath xlink:href=\"#arrow-8b348db8b3244354ae98437e4a0225e0-0-7\" class=\"displacy-label\" startOffset=\"50%\" side=\"left\" fill=\"currentColor\" text-anchor=\"middle\">conj</textPath>\n",
       "    </text>\n",
       "    <path class=\"displacy-arrowhead\" d=\"M607.0,204.0 L611.0,196.0 603.0,196.0\" fill=\"currentColor\"/>\n",
       "</g>\n",
       "\n",
       "<g class=\"displacy-arrow\">\n",
       "    <path class=\"displacy-arc\" id=\"arrow-8b348db8b3244354ae98437e4a0225e0-0-8\" stroke-width=\"2px\" d=\"M702,202.0 702,188.66666666666666 758.0,188.66666666666666 758.0,202.0\" fill=\"none\" stroke=\"currentColor\"/>\n",
       "    <text dy=\"1.25em\" style=\"font-size: 0.8em; letter-spacing: 1px\">\n",
       "        <textPath xlink:href=\"#arrow-8b348db8b3244354ae98437e4a0225e0-0-8\" class=\"displacy-label\" startOffset=\"50%\" side=\"left\" fill=\"currentColor\" text-anchor=\"middle\">obj</textPath>\n",
       "    </text>\n",
       "    <path class=\"displacy-arrowhead\" d=\"M758.0,204.0 L762.0,196.0 754.0,196.0\" fill=\"currentColor\"/>\n",
       "</g>\n",
       "\n",
       "<g class=\"displacy-arrow\">\n",
       "    <path class=\"displacy-arc\" id=\"arrow-8b348db8b3244354ae98437e4a0225e0-0-9\" stroke-width=\"2px\" d=\"M862,202.0 862,188.66666666666666 918.0,188.66666666666666 918.0,202.0\" fill=\"none\" stroke=\"currentColor\"/>\n",
       "    <text dy=\"1.25em\" style=\"font-size: 0.8em; letter-spacing: 1px\">\n",
       "        <textPath xlink:href=\"#arrow-8b348db8b3244354ae98437e4a0225e0-0-9\" class=\"displacy-label\" startOffset=\"50%\" side=\"left\" fill=\"currentColor\" text-anchor=\"middle\">case</textPath>\n",
       "    </text>\n",
       "    <path class=\"displacy-arrowhead\" d=\"M862,204.0 L858,196.0 866,196.0\" fill=\"currentColor\"/>\n",
       "</g>\n",
       "\n",
       "<g class=\"displacy-arrow\">\n",
       "    <path class=\"displacy-arc\" id=\"arrow-8b348db8b3244354ae98437e4a0225e0-0-10\" stroke-width=\"2px\" d=\"M782,202.0 782,175.33333333333334 921.0,175.33333333333334 921.0,202.0\" fill=\"none\" stroke=\"currentColor\"/>\n",
       "    <text dy=\"1.25em\" style=\"font-size: 0.8em; letter-spacing: 1px\">\n",
       "        <textPath xlink:href=\"#arrow-8b348db8b3244354ae98437e4a0225e0-0-10\" class=\"displacy-label\" startOffset=\"50%\" side=\"left\" fill=\"currentColor\" text-anchor=\"middle\">nmod</textPath>\n",
       "    </text>\n",
       "    <path class=\"displacy-arrowhead\" d=\"M921.0,204.0 L925.0,196.0 917.0,196.0\" fill=\"currentColor\"/>\n",
       "</g>\n",
       "\n",
       "<g class=\"displacy-arrow\">\n",
       "    <path class=\"displacy-arc\" id=\"arrow-8b348db8b3244354ae98437e4a0225e0-0-11\" stroke-width=\"2px\" d=\"M1022,202.0 1022,188.66666666666666 1078.0,188.66666666666666 1078.0,202.0\" fill=\"none\" stroke=\"currentColor\"/>\n",
       "    <text dy=\"1.25em\" style=\"font-size: 0.8em; letter-spacing: 1px\">\n",
       "        <textPath xlink:href=\"#arrow-8b348db8b3244354ae98437e4a0225e0-0-11\" class=\"displacy-label\" startOffset=\"50%\" side=\"left\" fill=\"currentColor\" text-anchor=\"middle\">case</textPath>\n",
       "    </text>\n",
       "    <path class=\"displacy-arrowhead\" d=\"M1022,204.0 L1018,196.0 1026,196.0\" fill=\"currentColor\"/>\n",
       "</g>\n",
       "\n",
       "<g class=\"displacy-arrow\">\n",
       "    <path class=\"displacy-arc\" id=\"arrow-8b348db8b3244354ae98437e4a0225e0-0-12\" stroke-width=\"2px\" d=\"M782,202.0 782,162.0 1084.0,162.0 1084.0,202.0\" fill=\"none\" stroke=\"currentColor\"/>\n",
       "    <text dy=\"1.25em\" style=\"font-size: 0.8em; letter-spacing: 1px\">\n",
       "        <textPath xlink:href=\"#arrow-8b348db8b3244354ae98437e4a0225e0-0-12\" class=\"displacy-label\" startOffset=\"50%\" side=\"left\" fill=\"currentColor\" text-anchor=\"middle\">nmod</textPath>\n",
       "    </text>\n",
       "    <path class=\"displacy-arrowhead\" d=\"M1084.0,204.0 L1088.0,196.0 1080.0,196.0\" fill=\"currentColor\"/>\n",
       "</g>\n",
       "\n",
       "<g class=\"displacy-arrow\">\n",
       "    <path class=\"displacy-arc\" id=\"arrow-8b348db8b3244354ae98437e4a0225e0-0-13\" stroke-width=\"2px\" d=\"M1182,202.0 1182,175.33333333333334 1321.0,175.33333333333334 1321.0,202.0\" fill=\"none\" stroke=\"currentColor\"/>\n",
       "    <text dy=\"1.25em\" style=\"font-size: 0.8em; letter-spacing: 1px\">\n",
       "        <textPath xlink:href=\"#arrow-8b348db8b3244354ae98437e4a0225e0-0-13\" class=\"displacy-label\" startOffset=\"50%\" side=\"left\" fill=\"currentColor\" text-anchor=\"middle\">advmod</textPath>\n",
       "    </text>\n",
       "    <path class=\"displacy-arrowhead\" d=\"M1182,204.0 L1178,196.0 1186,196.0\" fill=\"currentColor\"/>\n",
       "</g>\n",
       "\n",
       "<g class=\"displacy-arrow\">\n",
       "    <path class=\"displacy-arc\" id=\"arrow-8b348db8b3244354ae98437e4a0225e0-0-14\" stroke-width=\"2px\" d=\"M1262,202.0 1262,188.66666666666666 1318.0,188.66666666666666 1318.0,202.0\" fill=\"none\" stroke=\"currentColor\"/>\n",
       "    <text dy=\"1.25em\" style=\"font-size: 0.8em; letter-spacing: 1px\">\n",
       "        <textPath xlink:href=\"#arrow-8b348db8b3244354ae98437e4a0225e0-0-14\" class=\"displacy-label\" startOffset=\"50%\" side=\"left\" fill=\"currentColor\" text-anchor=\"middle\">advmod</textPath>\n",
       "    </text>\n",
       "    <path class=\"displacy-arrowhead\" d=\"M1262,204.0 L1258,196.0 1266,196.0\" fill=\"currentColor\"/>\n",
       "</g>\n",
       "\n",
       "<g class=\"displacy-arrow\">\n",
       "    <path class=\"displacy-arc\" id=\"arrow-8b348db8b3244354ae98437e4a0225e0-0-15\" stroke-width=\"2px\" d=\"M1422,202.0 1422,175.33333333333334 1561.0,175.33333333333334 1561.0,202.0\" fill=\"none\" stroke=\"currentColor\"/>\n",
       "    <text dy=\"1.25em\" style=\"font-size: 0.8em; letter-spacing: 1px\">\n",
       "        <textPath xlink:href=\"#arrow-8b348db8b3244354ae98437e4a0225e0-0-15\" class=\"displacy-label\" startOffset=\"50%\" side=\"left\" fill=\"currentColor\" text-anchor=\"middle\">det</textPath>\n",
       "    </text>\n",
       "    <path class=\"displacy-arrowhead\" d=\"M1422,204.0 L1418,196.0 1426,196.0\" fill=\"currentColor\"/>\n",
       "</g>\n",
       "\n",
       "<g class=\"displacy-arrow\">\n",
       "    <path class=\"displacy-arc\" id=\"arrow-8b348db8b3244354ae98437e4a0225e0-0-16\" stroke-width=\"2px\" d=\"M1502,202.0 1502,188.66666666666666 1558.0,188.66666666666666 1558.0,202.0\" fill=\"none\" stroke=\"currentColor\"/>\n",
       "    <text dy=\"1.25em\" style=\"font-size: 0.8em; letter-spacing: 1px\">\n",
       "        <textPath xlink:href=\"#arrow-8b348db8b3244354ae98437e4a0225e0-0-16\" class=\"displacy-label\" startOffset=\"50%\" side=\"left\" fill=\"currentColor\" text-anchor=\"middle\">det</textPath>\n",
       "    </text>\n",
       "    <path class=\"displacy-arrowhead\" d=\"M1502,204.0 L1498,196.0 1506,196.0\" fill=\"currentColor\"/>\n",
       "</g>\n",
       "\n",
       "<g class=\"displacy-arrow\">\n",
       "    <path class=\"displacy-arc\" id=\"arrow-8b348db8b3244354ae98437e4a0225e0-0-17\" stroke-width=\"2px\" d=\"M1342,202.0 1342,162.0 1564.0,162.0 1564.0,202.0\" fill=\"none\" stroke=\"currentColor\"/>\n",
       "    <text dy=\"1.25em\" style=\"font-size: 0.8em; letter-spacing: 1px\">\n",
       "        <textPath xlink:href=\"#arrow-8b348db8b3244354ae98437e4a0225e0-0-17\" class=\"displacy-label\" startOffset=\"50%\" side=\"left\" fill=\"currentColor\" text-anchor=\"middle\">obj</textPath>\n",
       "    </text>\n",
       "    <path class=\"displacy-arrowhead\" d=\"M1564.0,204.0 L1568.0,196.0 1560.0,196.0\" fill=\"currentColor\"/>\n",
       "</g>\n",
       "\n",
       "<g class=\"displacy-arrow\">\n",
       "    <path class=\"displacy-arc\" id=\"arrow-8b348db8b3244354ae98437e4a0225e0-0-18\" stroke-width=\"2px\" d=\"M1662,202.0 1662,188.66666666666666 1718.0,188.66666666666666 1718.0,202.0\" fill=\"none\" stroke=\"currentColor\"/>\n",
       "    <text dy=\"1.25em\" style=\"font-size: 0.8em; letter-spacing: 1px\">\n",
       "        <textPath xlink:href=\"#arrow-8b348db8b3244354ae98437e4a0225e0-0-18\" class=\"displacy-label\" startOffset=\"50%\" side=\"left\" fill=\"currentColor\" text-anchor=\"middle\">case</textPath>\n",
       "    </text>\n",
       "    <path class=\"displacy-arrowhead\" d=\"M1662,204.0 L1658,196.0 1666,196.0\" fill=\"currentColor\"/>\n",
       "</g>\n",
       "\n",
       "<g class=\"displacy-arrow\">\n",
       "    <path class=\"displacy-arc\" id=\"arrow-8b348db8b3244354ae98437e4a0225e0-0-19\" stroke-width=\"2px\" d=\"M1582,202.0 1582,175.33333333333334 1721.0,175.33333333333334 1721.0,202.0\" fill=\"none\" stroke=\"currentColor\"/>\n",
       "    <text dy=\"1.25em\" style=\"font-size: 0.8em; letter-spacing: 1px\">\n",
       "        <textPath xlink:href=\"#arrow-8b348db8b3244354ae98437e4a0225e0-0-19\" class=\"displacy-label\" startOffset=\"50%\" side=\"left\" fill=\"currentColor\" text-anchor=\"middle\">nmod</textPath>\n",
       "    </text>\n",
       "    <path class=\"displacy-arrowhead\" d=\"M1721.0,204.0 L1725.0,196.0 1717.0,196.0\" fill=\"currentColor\"/>\n",
       "</g>\n",
       "\n",
       "<g class=\"displacy-arrow\">\n",
       "    <path class=\"displacy-arc\" id=\"arrow-8b348db8b3244354ae98437e4a0225e0-0-20\" stroke-width=\"2px\" d=\"M1822,202.0 1822,188.66666666666666 1878.0,188.66666666666666 1878.0,202.0\" fill=\"none\" stroke=\"currentColor\"/>\n",
       "    <text dy=\"1.25em\" style=\"font-size: 0.8em; letter-spacing: 1px\">\n",
       "        <textPath xlink:href=\"#arrow-8b348db8b3244354ae98437e4a0225e0-0-20\" class=\"displacy-label\" startOffset=\"50%\" side=\"left\" fill=\"currentColor\" text-anchor=\"middle\">case</textPath>\n",
       "    </text>\n",
       "    <path class=\"displacy-arrowhead\" d=\"M1822,204.0 L1818,196.0 1826,196.0\" fill=\"currentColor\"/>\n",
       "</g>\n",
       "\n",
       "<g class=\"displacy-arrow\">\n",
       "    <path class=\"displacy-arc\" id=\"arrow-8b348db8b3244354ae98437e4a0225e0-0-21\" stroke-width=\"2px\" d=\"M1742,202.0 1742,175.33333333333334 1881.0,175.33333333333334 1881.0,202.0\" fill=\"none\" stroke=\"currentColor\"/>\n",
       "    <text dy=\"1.25em\" style=\"font-size: 0.8em; letter-spacing: 1px\">\n",
       "        <textPath xlink:href=\"#arrow-8b348db8b3244354ae98437e4a0225e0-0-21\" class=\"displacy-label\" startOffset=\"50%\" side=\"left\" fill=\"currentColor\" text-anchor=\"middle\">nmod</textPath>\n",
       "    </text>\n",
       "    <path class=\"displacy-arrowhead\" d=\"M1881.0,204.0 L1885.0,196.0 1877.0,196.0\" fill=\"currentColor\"/>\n",
       "</g>\n",
       "</svg></span>"
      ],
      "text/plain": [
       "<IPython.core.display.HTML object>"
      ]
     },
     "metadata": {},
     "output_type": "display_data"
    }
   ],
   "source": [
    "documento.user_data['title'] = \"Exemplo\"\n",
    "displacy.render(documento,style=\"dep\", jupyter=True,\n",
    "                options={'compact': True, 'distance' : 80, 'color': '#FFFFFF', 'bg': '#000000', 'font': 'Arial' })"
   ]
  },
  {
   "cell_type": "markdown",
   "metadata": {},
   "source": [
    "- Gerenciamento de Pipelines do Spacy\n",
    "- É possível remover ou adicionar etapas no pipeline\n",
    "- Spacy possui modo pipe: Python generator - Gera sobre demanda, quando vc acess ao elemento. Para ganho de performance. Similar ao que acontece em SPARK. So após pedir o resultado é que ocorre o gasto de memória."
   ]
  },
  {
   "cell_type": "code",
   "execution_count": 172,
   "metadata": {},
   "outputs": [
    {
     "name": "stdout",
     "output_type": "stream",
     "text": [
      "Pipeline Normal:  ['tok2vec', 'morphologizer', 'parser', 'lemmatizer', 'attribute_ruler', 'ner']\n"
     ]
    }
   ],
   "source": [
    "# Mostra os elementos do pipeline\n",
    "print(\"Pipeline Normal: \", nlp.pipe_names)"
   ]
  },
  {
   "cell_type": "code",
   "execution_count": 173,
   "metadata": {},
   "outputs": [
    {
     "name": "stdout",
     "output_type": "stream",
     "text": [
      "Pipeline sem tok2vec:  ['morphologizer', 'parser', 'lemmatizer', 'attribute_ruler', 'ner']\n"
     ]
    }
   ],
   "source": [
    "# Removendo elemento do pipeline\n",
    "nlp.remove_pipe('tok2vec')\n",
    "print(\"Pipeline sem tok2vec: \", nlp.pipe_names)"
   ]
  },
  {
   "cell_type": "code",
   "execution_count": 174,
   "metadata": {},
   "outputs": [
    {
     "name": "stdout",
     "output_type": "stream",
     "text": [
      "Pipeline Normal:  ['morphologizer', 'tok2vec', 'parser', 'lemmatizer', 'attribute_ruler', 'ner']\n"
     ]
    }
   ],
   "source": [
    "# Adicionando o tok2vec e modificando sua posição\n",
    "nlp.add_pipe('tok2vec', after='morphologizer')\n",
    "print(\"Pipeline Normal: \", nlp.pipe_names)"
   ]
  }
 ],
 "metadata": {
  "kernelspec": {
   "display_name": "Python 3",
   "language": "python",
   "name": "python3"
  },
  "language_info": {
   "codemirror_mode": {
    "name": "ipython",
    "version": 3
   },
   "file_extension": ".py",
   "mimetype": "text/x-python",
   "name": "python",
   "nbconvert_exporter": "python",
   "pygments_lexer": "ipython3",
   "version": "3.11.8"
  }
 },
 "nbformat": 4,
 "nbformat_minor": 2
}
